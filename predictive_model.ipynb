{
 "cells": [
  {
   "cell_type": "code",
   "execution_count": null,
   "id": "f169541b",
   "metadata": {},
   "outputs": [],
   "source": [
    "!pip install nltk\n",
    "!pip install pandas"
   ]
  },
  {
   "cell_type": "code",
   "execution_count": 37,
   "id": "bcd4a40c",
   "metadata": {},
   "outputs": [
    {
     "name": "stderr",
     "output_type": "stream",
     "text": [
      "python(92612) MallocStackLogging: can't turn off malloc stack logging because it was not enabled.\n"
     ]
    },
    {
     "name": "stdout",
     "output_type": "stream",
     "text": [
      "Requirement already satisfied: nltk in /opt/anaconda3/lib/python3.12/site-packages (3.9.1)\n",
      "Requirement already satisfied: click in /opt/anaconda3/lib/python3.12/site-packages (from nltk) (8.1.7)\n",
      "Requirement already satisfied: joblib in /opt/anaconda3/lib/python3.12/site-packages (from nltk) (1.4.2)\n",
      "Requirement already satisfied: regex>=2021.8.3 in /opt/anaconda3/lib/python3.12/site-packages (from nltk) (2024.9.11)\n",
      "Requirement already satisfied: tqdm in /opt/anaconda3/lib/python3.12/site-packages (from nltk) (4.66.5)\n"
     ]
    },
    {
     "name": "stderr",
     "output_type": "stream",
     "text": [
      "python(92614) MallocStackLogging: can't turn off malloc stack logging because it was not enabled.\n"
     ]
    },
    {
     "name": "stdout",
     "output_type": "stream",
     "text": [
      "Requirement already satisfied: pandas in /opt/anaconda3/lib/python3.12/site-packages (2.2.2)\n",
      "Requirement already satisfied: numpy>=1.26.0 in /opt/anaconda3/lib/python3.12/site-packages (from pandas) (1.26.4)\n",
      "Requirement already satisfied: python-dateutil>=2.8.2 in /opt/anaconda3/lib/python3.12/site-packages (from pandas) (2.9.0.post0)\n",
      "Requirement already satisfied: pytz>=2020.1 in /opt/anaconda3/lib/python3.12/site-packages (from pandas) (2024.1)\n",
      "Requirement already satisfied: tzdata>=2022.7 in /opt/anaconda3/lib/python3.12/site-packages (from pandas) (2023.3)\n",
      "Requirement already satisfied: six>=1.5 in /opt/anaconda3/lib/python3.12/site-packages (from python-dateutil>=2.8.2->pandas) (1.16.0)\n"
     ]
    },
    {
     "name": "stderr",
     "output_type": "stream",
     "text": [
      "[nltk_data] Downloading package stopwords to\n",
      "[nltk_data]     /Users/maanyashanker/nltk_data...\n",
      "[nltk_data]   Package stopwords is already up-to-date!\n"
     ]
    }
   ],
   "source": [
    "import pandas as pd\n",
    "import numpy as np\n",
    "\n",
    "# libraries to clean the data\n",
    "import nltk\n",
    "nltk.download('stopwords')\n",
    "from nltk.corpus import stopwords\n",
    "import re\n",
    "\n",
    "# To vectorize and split the data appropriately\n",
    "from sklearn.feature_extraction.text import TfidfVectorizer\n",
    "from sklearn.model_selection import train_test_split\n",
    "\n",
    "# To model the Gaussian Navie Bayes classifier\n",
    "from sklearn.naive_bayes import MultinomialNB\n",
    "\n",
    "# random forest\n",
    "from sklearn.ensemble import RandomForestClassifier\n",
    "\n",
    "# KNN\n",
    "from sklearn.neighbors import KNeighborsClassifier\n",
    "\n",
    "\n",
    "# scoring models\n",
    "from sklearn import metrics\n",
    "import seaborn as sns\n",
    "import matplotlib.pyplot as plt"
   ]
  },
  {
   "cell_type": "code",
   "execution_count": 38,
   "id": "f1760159",
   "metadata": {},
   "outputs": [],
   "source": [
    "MN_bill_text = pd.read_csv(\"MN_bill_texts_preprocessed.csv\")\n",
    "MN_bill_text.columns = ['bill_id', 'text']"
   ]
  },
  {
   "cell_type": "code",
   "execution_count": 39,
   "id": "3fd862e1",
   "metadata": {},
   "outputs": [
    {
     "data": {
      "text/html": [
       "<div>\n",
       "<style scoped>\n",
       "    .dataframe tbody tr th:only-of-type {\n",
       "        vertical-align: middle;\n",
       "    }\n",
       "\n",
       "    .dataframe tbody tr th {\n",
       "        vertical-align: top;\n",
       "    }\n",
       "\n",
       "    .dataframe thead th {\n",
       "        text-align: right;\n",
       "    }\n",
       "</style>\n",
       "<table border=\"1\" class=\"dataframe\">\n",
       "  <thead>\n",
       "    <tr style=\"text-align: right;\">\n",
       "      <th></th>\n",
       "      <th>bill_id</th>\n",
       "      <th>session_id</th>\n",
       "      <th>bill_number</th>\n",
       "      <th>status</th>\n",
       "      <th>status_desc</th>\n",
       "      <th>status_date</th>\n",
       "      <th>title</th>\n",
       "      <th>description</th>\n",
       "      <th>committee_id</th>\n",
       "      <th>committee</th>\n",
       "      <th>last_action_date</th>\n",
       "      <th>last_action</th>\n",
       "      <th>url</th>\n",
       "      <th>state_link</th>\n",
       "    </tr>\n",
       "  </thead>\n",
       "  <tbody>\n",
       "    <tr>\n",
       "      <th>0</th>\n",
       "      <td>1642990</td>\n",
       "      <td>1986</td>\n",
       "      <td>HF1</td>\n",
       "      <td>4</td>\n",
       "      <td>Passed</td>\n",
       "      <td>2023-01-31</td>\n",
       "      <td>Protect Reproductive Options Act; fundamental ...</td>\n",
       "      <td>Protect Reproductive Options Act; fundamental ...</td>\n",
       "      <td>0</td>\n",
       "      <td>NaN</td>\n",
       "      <td>2023-01-31</td>\n",
       "      <td>Secretary of State Chapter 4</td>\n",
       "      <td>https://legiscan.com/MN/bill/HF1/2023</td>\n",
       "      <td>https://www.revisor.mn.gov/bills/bill.php?b=Ho...</td>\n",
       "    </tr>\n",
       "    <tr>\n",
       "      <th>1</th>\n",
       "      <td>1642804</td>\n",
       "      <td>1986</td>\n",
       "      <td>HF2</td>\n",
       "      <td>4</td>\n",
       "      <td>Passed</td>\n",
       "      <td>2023-05-25</td>\n",
       "      <td>Paid family, bonding, and applicant's serious ...</td>\n",
       "      <td>Paid family, bonding, and applicant's serious ...</td>\n",
       "      <td>0</td>\n",
       "      <td>NaN</td>\n",
       "      <td>2023-05-25</td>\n",
       "      <td>Secretary of State Chapter 59</td>\n",
       "      <td>https://legiscan.com/MN/bill/HF2/2023</td>\n",
       "      <td>https://www.revisor.mn.gov/bills/bill.php?b=Ho...</td>\n",
       "    </tr>\n",
       "    <tr>\n",
       "      <th>2</th>\n",
       "      <td>1642995</td>\n",
       "      <td>1986</td>\n",
       "      <td>HF3</td>\n",
       "      <td>4</td>\n",
       "      <td>Passed</td>\n",
       "      <td>2023-05-05</td>\n",
       "      <td>Voter registration and absentee voting provisi...</td>\n",
       "      <td>Voter registration and absentee voting provisi...</td>\n",
       "      <td>0</td>\n",
       "      <td>NaN</td>\n",
       "      <td>2023-05-05</td>\n",
       "      <td>Secretary of State Chapter 34</td>\n",
       "      <td>https://legiscan.com/MN/bill/HF3/2023</td>\n",
       "      <td>https://www.revisor.mn.gov/bills/bill.php?b=Ho...</td>\n",
       "    </tr>\n",
       "    <tr>\n",
       "      <th>3</th>\n",
       "      <td>1643125</td>\n",
       "      <td>1986</td>\n",
       "      <td>HF4</td>\n",
       "      <td>4</td>\n",
       "      <td>Passed</td>\n",
       "      <td>2023-03-07</td>\n",
       "      <td>Noncompliant driver's license or Minnesota ID ...</td>\n",
       "      <td>Noncompliant driver's license or Minnesota ID ...</td>\n",
       "      <td>0</td>\n",
       "      <td>NaN</td>\n",
       "      <td>2023-03-07</td>\n",
       "      <td>Secretary of State Chapter 13</td>\n",
       "      <td>https://legiscan.com/MN/bill/HF4/2023</td>\n",
       "      <td>https://www.revisor.mn.gov/bills/bill.php?b=Ho...</td>\n",
       "    </tr>\n",
       "    <tr>\n",
       "      <th>4</th>\n",
       "      <td>1642984</td>\n",
       "      <td>1986</td>\n",
       "      <td>HF5</td>\n",
       "      <td>4</td>\n",
       "      <td>Passed</td>\n",
       "      <td>2023-03-17</td>\n",
       "      <td>Free school lunch and breakfast provided for s...</td>\n",
       "      <td>Free school lunch and breakfast provided for s...</td>\n",
       "      <td>0</td>\n",
       "      <td>NaN</td>\n",
       "      <td>2023-03-17</td>\n",
       "      <td>Secretary of State Chapter 18</td>\n",
       "      <td>https://legiscan.com/MN/bill/HF5/2023</td>\n",
       "      <td>https://www.revisor.mn.gov/bills/bill.php?b=Ho...</td>\n",
       "    </tr>\n",
       "  </tbody>\n",
       "</table>\n",
       "</div>"
      ],
      "text/plain": [
       "   bill_id  session_id bill_number  status status_desc status_date  \\\n",
       "0  1642990        1986         HF1       4      Passed  2023-01-31   \n",
       "1  1642804        1986         HF2       4      Passed  2023-05-25   \n",
       "2  1642995        1986         HF3       4      Passed  2023-05-05   \n",
       "3  1643125        1986         HF4       4      Passed  2023-03-07   \n",
       "4  1642984        1986         HF5       4      Passed  2023-03-17   \n",
       "\n",
       "                                               title  \\\n",
       "0  Protect Reproductive Options Act; fundamental ...   \n",
       "1  Paid family, bonding, and applicant's serious ...   \n",
       "2  Voter registration and absentee voting provisi...   \n",
       "3  Noncompliant driver's license or Minnesota ID ...   \n",
       "4  Free school lunch and breakfast provided for s...   \n",
       "\n",
       "                                         description  committee_id committee  \\\n",
       "0  Protect Reproductive Options Act; fundamental ...             0       NaN   \n",
       "1  Paid family, bonding, and applicant's serious ...             0       NaN   \n",
       "2  Voter registration and absentee voting provisi...             0       NaN   \n",
       "3  Noncompliant driver's license or Minnesota ID ...             0       NaN   \n",
       "4  Free school lunch and breakfast provided for s...             0       NaN   \n",
       "\n",
       "  last_action_date                     last_action  \\\n",
       "0       2023-01-31   Secretary of State Chapter 4    \n",
       "1       2023-05-25  Secretary of State Chapter 59    \n",
       "2       2023-05-05  Secretary of State Chapter 34    \n",
       "3       2023-03-07  Secretary of State Chapter 13    \n",
       "4       2023-03-17  Secretary of State Chapter 18    \n",
       "\n",
       "                                     url  \\\n",
       "0  https://legiscan.com/MN/bill/HF1/2023   \n",
       "1  https://legiscan.com/MN/bill/HF2/2023   \n",
       "2  https://legiscan.com/MN/bill/HF3/2023   \n",
       "3  https://legiscan.com/MN/bill/HF4/2023   \n",
       "4  https://legiscan.com/MN/bill/HF5/2023   \n",
       "\n",
       "                                          state_link  \n",
       "0  https://www.revisor.mn.gov/bills/bill.php?b=Ho...  \n",
       "1  https://www.revisor.mn.gov/bills/bill.php?b=Ho...  \n",
       "2  https://www.revisor.mn.gov/bills/bill.php?b=Ho...  \n",
       "3  https://www.revisor.mn.gov/bills/bill.php?b=Ho...  \n",
       "4  https://www.revisor.mn.gov/bills/bill.php?b=Ho...  "
      ]
     },
     "execution_count": 39,
     "metadata": {},
     "output_type": "execute_result"
    }
   ],
   "source": [
    "MN_other_stuff = pd.read_csv(\"bills.csv\")\n",
    "MN_other_stuff.head()"
   ]
  },
  {
   "cell_type": "code",
   "execution_count": 40,
   "id": "90f624f9-51ee-461f-8639-efbb5dc4d16b",
   "metadata": {},
   "outputs": [
    {
     "data": {
      "text/plain": [
       "status_desc\n",
       "Introduced    10914\n",
       "Passed          157\n",
       "Engrossed        75\n",
       "Name: count, dtype: int64"
      ]
     },
     "execution_count": 40,
     "metadata": {},
     "output_type": "execute_result"
    }
   ],
   "source": [
    "MN_other_stuff[\"status_desc\"].value_counts()"
   ]
  },
  {
   "cell_type": "code",
   "execution_count": 41,
   "id": "68b88c76",
   "metadata": {},
   "outputs": [],
   "source": [
    "new_data = {'bill_id': 1642990, 'text': \"11 bill act​ 12 relating health establishing fundamental right reproductive health proposing​ 13 coding new law minnesota statutes chapter 145​ 14 enacted legislature state minnesota​ 15 section reproductive health rights​ 16 subdivision 1 short title section may cited protect reproductive options​ 17 act​ 18 subd 2 definition purposes section reproductive health care means​ 19 health care offered arranged furnished purpose preventing pregnancy​ 110 terminating pregnancy managing pregnancy loss improving maternal health birth​ 111 outcomes reproductive health care includes limited contraception sterilization​ 112 preconception care maternity care abortion care family planning fertility services​ 113 counseling regarding reproductive health care​ 114 subd 3 reproductive freedom every individual fundamental right make​ 115 autonomous decisions individuals reproductive health including the​ 116 fundamental right use refuse reproductive health care​ 117 b every individual becomes pregnant fundamental right continue the​ 118 pregnancy give birth obtain abortion make autonomous decisions about​ 119 exercise fundamental right​ 120 subd 4 right reproductive freedom recognized minnesota constitution​ 121 establishes principles individual liberty personal privacy equality principles​ 122 ensure fundamental right reproductive freedom​ 1​section 1​ revisor sgsbm 2301711​010323 ​ state minnesota​ document made available​ alternative formats upon request​ house representatives​ h f 1​ ninetythird session​ authored kotyzawitthuhn hortman klevorn rehm others​01042023​ bill read first time referred committee health finance policy​21 subd 5 local unit government limitation local unit government may not​ 22 regulate individuals ability freely exercise fundamental rights set forth this​ 23 section manner restrictive set forth section​ 24 effective date section effective day following final enactment​ 2​section 1​ revisor sgsbm 2301711​010323\"}\n",
    "#fix the column names\n",
    "# Add the new datapoint to the front of the DataFrame\n",
    "MN_bill_text = pd.concat([pd.DataFrame([new_data]), MN_bill_text], ignore_index=True)"
   ]
  },
  {
   "cell_type": "code",
   "execution_count": 42,
   "id": "59f11cef",
   "metadata": {},
   "outputs": [],
   "source": [
    "MN_bill_text.dropna(subset=['bill_id', 'text'], inplace=True)\n",
    "MN_bill_text = MN_bill_text.astype({'bill_id':'int', 'text':'string'})"
   ]
  },
  {
   "cell_type": "code",
   "execution_count": 43,
   "id": "678dfe47",
   "metadata": {},
   "outputs": [
    {
     "data": {
      "text/html": [
       "<div>\n",
       "<style scoped>\n",
       "    .dataframe tbody tr th:only-of-type {\n",
       "        vertical-align: middle;\n",
       "    }\n",
       "\n",
       "    .dataframe tbody tr th {\n",
       "        vertical-align: top;\n",
       "    }\n",
       "\n",
       "    .dataframe thead th {\n",
       "        text-align: right;\n",
       "    }\n",
       "</style>\n",
       "<table border=\"1\" class=\"dataframe\">\n",
       "  <thead>\n",
       "    <tr style=\"text-align: right;\">\n",
       "      <th></th>\n",
       "      <th>bill_id</th>\n",
       "      <th>text</th>\n",
       "    </tr>\n",
       "  </thead>\n",
       "  <tbody>\n",
       "    <tr>\n",
       "      <th>0</th>\n",
       "      <td>1642990</td>\n",
       "      <td>11 bill act​ 12 relating health establishing f...</td>\n",
       "    </tr>\n",
       "    <tr>\n",
       "      <th>1</th>\n",
       "      <td>1642804</td>\n",
       "      <td>11 bill act​ 12 relating economic development ...</td>\n",
       "    </tr>\n",
       "    <tr>\n",
       "      <th>2</th>\n",
       "      <td>1642995</td>\n",
       "      <td>11 bill act​ 12 relating elections modifying p...</td>\n",
       "    </tr>\n",
       "    <tr>\n",
       "      <th>3</th>\n",
       "      <td>1643125</td>\n",
       "      <td>11 bill act​ 12 relating transportation modify...</td>\n",
       "    </tr>\n",
       "    <tr>\n",
       "      <th>4</th>\n",
       "      <td>1642984</td>\n",
       "      <td>11 bill act​ 12 relating education providing s...</td>\n",
       "    </tr>\n",
       "  </tbody>\n",
       "</table>\n",
       "</div>"
      ],
      "text/plain": [
       "   bill_id                                               text\n",
       "0  1642990  11 bill act​ 12 relating health establishing f...\n",
       "1  1642804  11 bill act​ 12 relating economic development ...\n",
       "2  1642995  11 bill act​ 12 relating elections modifying p...\n",
       "3  1643125  11 bill act​ 12 relating transportation modify...\n",
       "4  1642984  11 bill act​ 12 relating education providing s..."
      ]
     },
     "execution_count": 43,
     "metadata": {},
     "output_type": "execute_result"
    }
   ],
   "source": [
    "MN_bill_text.head()"
   ]
  },
  {
   "cell_type": "code",
   "execution_count": 44,
   "id": "612788d5",
   "metadata": {},
   "outputs": [],
   "source": [
    "stop_words = stopwords.words('english')\n",
    "\n",
    "        \n",
    "def remove_stopwords(texts):\n",
    "    return [word for word in texts.split() if word not in stop_words]\n",
    "\n",
    "def clean_text(text):\n",
    "    text = ' '.join(remove_stopwords(text.lower()))\n",
    "    # remove punctuation\n",
    "    text = str(re.sub('[,.!?]', '', text))\n",
    "    #remove the new line shit\n",
    "    text = text.replace(\"\\u200b\", \"\")\n",
    "    #remove all numbers\n",
    "    text = re.sub(r'\\d+', '', text)\n",
    "    #remove a b c \n",
    "    text = text.replace(\" a \", \"\")\n",
    "    text = text.replace(\" b \", \"\")\n",
    "    text = text.replace(\" c \", \"\")\n",
    "    return text\n",
    "\n",
    "MN_bill_text[\"clean_text\"]= MN_bill_text['text'].apply(lambda x:clean_text(x))"
   ]
  },
  {
   "cell_type": "code",
   "execution_count": 45,
   "id": "4b4b1f98",
   "metadata": {},
   "outputs": [],
   "source": [
    "# MN_bill_text[\"clean_text\"][2]"
   ]
  },
  {
   "cell_type": "code",
   "execution_count": 46,
   "id": "a83bbb5d",
   "metadata": {},
   "outputs": [
    {
     "data": {
      "text/html": [
       "<div>\n",
       "<style scoped>\n",
       "    .dataframe tbody tr th:only-of-type {\n",
       "        vertical-align: middle;\n",
       "    }\n",
       "\n",
       "    .dataframe tbody tr th {\n",
       "        vertical-align: top;\n",
       "    }\n",
       "\n",
       "    .dataframe thead th {\n",
       "        text-align: right;\n",
       "    }\n",
       "</style>\n",
       "<table border=\"1\" class=\"dataframe\">\n",
       "  <thead>\n",
       "    <tr style=\"text-align: right;\">\n",
       "      <th></th>\n",
       "      <th>bill_id</th>\n",
       "      <th>text</th>\n",
       "      <th>clean_text</th>\n",
       "      <th>session_id</th>\n",
       "      <th>bill_number</th>\n",
       "      <th>status</th>\n",
       "      <th>status_desc</th>\n",
       "      <th>status_date</th>\n",
       "      <th>title</th>\n",
       "      <th>description</th>\n",
       "      <th>committee_id</th>\n",
       "      <th>committee</th>\n",
       "      <th>last_action_date</th>\n",
       "      <th>last_action</th>\n",
       "      <th>url</th>\n",
       "      <th>state_link</th>\n",
       "    </tr>\n",
       "  </thead>\n",
       "  <tbody>\n",
       "    <tr>\n",
       "      <th>0</th>\n",
       "      <td>1642990</td>\n",
       "      <td>11 bill act​ 12 relating health establishing f...</td>\n",
       "      <td>bill act  relating health establishing fundam...</td>\n",
       "      <td>1986</td>\n",
       "      <td>HF1</td>\n",
       "      <td>4</td>\n",
       "      <td>Passed</td>\n",
       "      <td>2023-01-31</td>\n",
       "      <td>Protect Reproductive Options Act; fundamental ...</td>\n",
       "      <td>Protect Reproductive Options Act; fundamental ...</td>\n",
       "      <td>0</td>\n",
       "      <td>NaN</td>\n",
       "      <td>2023-01-31</td>\n",
       "      <td>Secretary of State Chapter 4</td>\n",
       "      <td>https://legiscan.com/MN/bill/HF1/2023</td>\n",
       "      <td>https://www.revisor.mn.gov/bills/bill.php?b=Ho...</td>\n",
       "    </tr>\n",
       "    <tr>\n",
       "      <th>1</th>\n",
       "      <td>1642804</td>\n",
       "      <td>11 bill act​ 12 relating economic development ...</td>\n",
       "      <td>bill act  relating economic development provi...</td>\n",
       "      <td>1986</td>\n",
       "      <td>HF2</td>\n",
       "      <td>4</td>\n",
       "      <td>Passed</td>\n",
       "      <td>2023-05-25</td>\n",
       "      <td>Paid family, bonding, and applicant's serious ...</td>\n",
       "      <td>Paid family, bonding, and applicant's serious ...</td>\n",
       "      <td>0</td>\n",
       "      <td>NaN</td>\n",
       "      <td>2023-05-25</td>\n",
       "      <td>Secretary of State Chapter 59</td>\n",
       "      <td>https://legiscan.com/MN/bill/HF2/2023</td>\n",
       "      <td>https://www.revisor.mn.gov/bills/bill.php?b=Ho...</td>\n",
       "    </tr>\n",
       "    <tr>\n",
       "      <th>2</th>\n",
       "      <td>1642995</td>\n",
       "      <td>11 bill act​ 12 relating elections modifying p...</td>\n",
       "      <td>bill act  relating elections modifying provis...</td>\n",
       "      <td>1986</td>\n",
       "      <td>HF3</td>\n",
       "      <td>4</td>\n",
       "      <td>Passed</td>\n",
       "      <td>2023-05-05</td>\n",
       "      <td>Voter registration and absentee voting provisi...</td>\n",
       "      <td>Voter registration and absentee voting provisi...</td>\n",
       "      <td>0</td>\n",
       "      <td>NaN</td>\n",
       "      <td>2023-05-05</td>\n",
       "      <td>Secretary of State Chapter 34</td>\n",
       "      <td>https://legiscan.com/MN/bill/HF3/2023</td>\n",
       "      <td>https://www.revisor.mn.gov/bills/bill.php?b=Ho...</td>\n",
       "    </tr>\n",
       "    <tr>\n",
       "      <th>3</th>\n",
       "      <td>1643125</td>\n",
       "      <td>11 bill act​ 12 relating transportation modify...</td>\n",
       "      <td>bill act  relating transportation modifying r...</td>\n",
       "      <td>1986</td>\n",
       "      <td>HF4</td>\n",
       "      <td>4</td>\n",
       "      <td>Passed</td>\n",
       "      <td>2023-03-07</td>\n",
       "      <td>Noncompliant driver's license or Minnesota ID ...</td>\n",
       "      <td>Noncompliant driver's license or Minnesota ID ...</td>\n",
       "      <td>0</td>\n",
       "      <td>NaN</td>\n",
       "      <td>2023-03-07</td>\n",
       "      <td>Secretary of State Chapter 13</td>\n",
       "      <td>https://legiscan.com/MN/bill/HF4/2023</td>\n",
       "      <td>https://www.revisor.mn.gov/bills/bill.php?b=Ho...</td>\n",
       "    </tr>\n",
       "    <tr>\n",
       "      <th>4</th>\n",
       "      <td>1642984</td>\n",
       "      <td>11 bill act​ 12 relating education providing s...</td>\n",
       "      <td>bill act  relating education providing school...</td>\n",
       "      <td>1986</td>\n",
       "      <td>HF5</td>\n",
       "      <td>4</td>\n",
       "      <td>Passed</td>\n",
       "      <td>2023-03-17</td>\n",
       "      <td>Free school lunch and breakfast provided for s...</td>\n",
       "      <td>Free school lunch and breakfast provided for s...</td>\n",
       "      <td>0</td>\n",
       "      <td>NaN</td>\n",
       "      <td>2023-03-17</td>\n",
       "      <td>Secretary of State Chapter 18</td>\n",
       "      <td>https://legiscan.com/MN/bill/HF5/2023</td>\n",
       "      <td>https://www.revisor.mn.gov/bills/bill.php?b=Ho...</td>\n",
       "    </tr>\n",
       "  </tbody>\n",
       "</table>\n",
       "</div>"
      ],
      "text/plain": [
       "   bill_id                                               text  \\\n",
       "0  1642990  11 bill act​ 12 relating health establishing f...   \n",
       "1  1642804  11 bill act​ 12 relating economic development ...   \n",
       "2  1642995  11 bill act​ 12 relating elections modifying p...   \n",
       "3  1643125  11 bill act​ 12 relating transportation modify...   \n",
       "4  1642984  11 bill act​ 12 relating education providing s...   \n",
       "\n",
       "                                          clean_text  session_id bill_number  \\\n",
       "0   bill act  relating health establishing fundam...        1986         HF1   \n",
       "1   bill act  relating economic development provi...        1986         HF2   \n",
       "2   bill act  relating elections modifying provis...        1986         HF3   \n",
       "3   bill act  relating transportation modifying r...        1986         HF4   \n",
       "4   bill act  relating education providing school...        1986         HF5   \n",
       "\n",
       "   status status_desc status_date  \\\n",
       "0       4      Passed  2023-01-31   \n",
       "1       4      Passed  2023-05-25   \n",
       "2       4      Passed  2023-05-05   \n",
       "3       4      Passed  2023-03-07   \n",
       "4       4      Passed  2023-03-17   \n",
       "\n",
       "                                               title  \\\n",
       "0  Protect Reproductive Options Act; fundamental ...   \n",
       "1  Paid family, bonding, and applicant's serious ...   \n",
       "2  Voter registration and absentee voting provisi...   \n",
       "3  Noncompliant driver's license or Minnesota ID ...   \n",
       "4  Free school lunch and breakfast provided for s...   \n",
       "\n",
       "                                         description  committee_id committee  \\\n",
       "0  Protect Reproductive Options Act; fundamental ...             0       NaN   \n",
       "1  Paid family, bonding, and applicant's serious ...             0       NaN   \n",
       "2  Voter registration and absentee voting provisi...             0       NaN   \n",
       "3  Noncompliant driver's license or Minnesota ID ...             0       NaN   \n",
       "4  Free school lunch and breakfast provided for s...             0       NaN   \n",
       "\n",
       "  last_action_date                     last_action  \\\n",
       "0       2023-01-31   Secretary of State Chapter 4    \n",
       "1       2023-05-25  Secretary of State Chapter 59    \n",
       "2       2023-05-05  Secretary of State Chapter 34    \n",
       "3       2023-03-07  Secretary of State Chapter 13    \n",
       "4       2023-03-17  Secretary of State Chapter 18    \n",
       "\n",
       "                                     url  \\\n",
       "0  https://legiscan.com/MN/bill/HF1/2023   \n",
       "1  https://legiscan.com/MN/bill/HF2/2023   \n",
       "2  https://legiscan.com/MN/bill/HF3/2023   \n",
       "3  https://legiscan.com/MN/bill/HF4/2023   \n",
       "4  https://legiscan.com/MN/bill/HF5/2023   \n",
       "\n",
       "                                          state_link  \n",
       "0  https://www.revisor.mn.gov/bills/bill.php?b=Ho...  \n",
       "1  https://www.revisor.mn.gov/bills/bill.php?b=Ho...  \n",
       "2  https://www.revisor.mn.gov/bills/bill.php?b=Ho...  \n",
       "3  https://www.revisor.mn.gov/bills/bill.php?b=Ho...  \n",
       "4  https://www.revisor.mn.gov/bills/bill.php?b=Ho...  "
      ]
     },
     "execution_count": 46,
     "metadata": {},
     "output_type": "execute_result"
    }
   ],
   "source": [
    "fulldata = pd.merge(MN_bill_text, MN_other_stuff, on=['bill_id'], how='left')\n",
    "fulldata.head()"
   ]
  },
  {
   "cell_type": "code",
   "execution_count": 47,
   "id": "244c3931",
   "metadata": {},
   "outputs": [],
   "source": [
    "fulldata['clean_title']= fulldata['title'].apply(lambda x:clean_text(x))\n",
    "fulldata['clean_description']= fulldata['description'].apply(lambda x:clean_text(x))\n",
    "fulldata['clean_last_action']= fulldata['last_action'].apply(lambda x:clean_text(x))"
   ]
  },
  {
   "cell_type": "code",
   "execution_count": 48,
   "id": "8be9f6ea",
   "metadata": {},
   "outputs": [],
   "source": [
    "df = fulldata\n",
    "X_train_clean_title_text, X_test_clean_title_text, \\\n",
    "X_train_clean_description_text, X_test_clean_description_text, \\\n",
    "X_train_clean_last_action_text, X_test_clean_last_action_text, \\\n",
    "X_train_bill_text, X_test_bill_text, \\\n",
    "target_train, target_test = train_test_split(\n",
    "    df['clean_title'],\n",
    "    df['clean_description'],\n",
    "    df['clean_last_action'],\n",
    "    df['text'],\n",
    "    df['status'],\n",
    "    test_size=0.2,\n",
    "    stratify=df['status']\n",
    ")"
   ]
  },
  {
   "cell_type": "code",
   "execution_count": 49,
   "id": "ac6777ea",
   "metadata": {},
   "outputs": [],
   "source": [
    "#tf-idf\n",
    "vectorizer = TfidfVectorizer()\n",
    "X_train_text = vectorizer.fit_transform(X_train_bill_text)\n",
    "X_test_text = vectorizer.transform(X_test_bill_text)\n",
    "X_train_title = vectorizer.fit_transform(X_train_clean_title_text)\n",
    "X_test_title = vectorizer.transform(X_test_clean_title_text)\n",
    "X_train_desc = vectorizer.transform(X_train_clean_description_text)\n",
    "X_test_desc = vectorizer.transform(X_test_clean_description_text)\n",
    "X_train_action = vectorizer.transform(X_train_clean_last_action_text)\n",
    "X_test_action = vectorizer.transform(X_test_clean_last_action_text)"
   ]
  },
  {
   "cell_type": "code",
   "execution_count": 50,
   "id": "510a009e",
   "metadata": {},
   "outputs": [],
   "source": [
    "features_train = np.asarray(np.concatenate([X_train_text.todense(),X_train_title.todense(), X_train_desc.todense(), X_train_action.todense()], axis=1))\n",
    "features_test = np.asarray(np.concatenate([X_test_text.todense(),X_test_title.todense(), X_test_desc.todense(), X_test_action.todense()], axis=1))\n",
    "\n"
   ]
  },
  {
   "cell_type": "code",
   "execution_count": 51,
   "id": "4f4391f2",
   "metadata": {},
   "outputs": [
    {
     "name": "stdout",
     "output_type": "stream",
     "text": [
      "Accuracy: 0.98140589569161\n",
      "Precision: 0.9631575320982513\n",
      "Recall: 0.98140589569161\n",
      "F1: 0.9721960898496883\n"
     ]
    },
    {
     "name": "stderr",
     "output_type": "stream",
     "text": [
      "/opt/anaconda3/lib/python3.12/site-packages/sklearn/metrics/_classification.py:1531: UndefinedMetricWarning: Precision is ill-defined and being set to 0.0 in labels with no predicted samples. Use `zero_division` parameter to control this behavior.\n",
      "  _warn_prf(average, modifier, f\"{metric.capitalize()} is\", len(result))\n"
     ]
    }
   ],
   "source": [
    "#naive bayes\n",
    "\n",
    "model = MultinomialNB(alpha=3)\n",
    "\n",
    "model.fit(features_train, target_train)\n",
    "\n",
    "test_pred = model.predict(features_test)\n",
    "test_proba = model.predict_proba(features_test)\n",
    "\n",
    "print(\"Accuracy:\", metrics.accuracy_score(target_test, test_pred))\n",
    "#print(\"AUC Score:\", metrics.roc_auc_score(target_test, test_proba, multi_class='ovr'))\n",
    "print(\"Precision:\", metrics.precision_score(target_test, test_pred, average='weighted'))\n",
    "print(\"Recall:\",metrics.recall_score(target_test, test_pred, average='weighted'))\n",
    "print(\"F1:\", metrics.f1_score(target_test, test_pred, average='weighted'))"
   ]
  },
  {
   "cell_type": "code",
   "execution_count": 53,
   "id": "8cd2c32f-09f9-4e63-b6c7-a94ee0d2602d",
   "metadata": {},
   "outputs": [
    {
     "name": "stdout",
     "output_type": "stream",
     "text": [
      "[[2164    0    0]\n",
      " [  15    0    0]\n",
      " [  26    0    0]]\n"
     ]
    },
    {
     "data": {
      "image/png": "[encoded data removed]",
      "text/plain": [
       "<Figure size 640x480 with 2 Axes>"
      ]
     },
     "metadata": {},
     "output_type": "display_data"
    }
   ],
   "source": [
    "# Create the confusion matrix\n",
    "cm = metrics.confusion_matrix(target_test, test_pred)\n",
    "\n",
    "# Print the confusion matrix\n",
    "print(cm)\n",
    "\n",
    "# Visualize the confusion matrix using seaborn\n",
    "sns.heatmap(cm, annot=True, fmt='g')\n",
    "plt.xlabel('Predicted')\n",
    "plt.ylabel('Actual')\n",
    "plt.show()"
   ]
  },
  {
   "cell_type": "code",
   "execution_count": 55,
   "id": "f0eeb1fd",
   "metadata": {},
   "outputs": [
    {
     "name": "stderr",
     "output_type": "stream",
     "text": [
      "python(93272) MallocStackLogging: can't turn off malloc stack logging because it was not enabled.\n"
     ]
    },
    {
     "name": "stdout",
     "output_type": "stream",
     "text": [
      "Accuracy: 0.9922902494331066\n",
      "Precision: 0.9855476226865499\n",
      "Recall: 0.9922902494331066\n",
      "F1: 0.9888858306652158\n"
     ]
    },
    {
     "name": "stderr",
     "output_type": "stream",
     "text": [
      "/opt/anaconda3/lib/python3.12/site-packages/sklearn/metrics/_classification.py:1531: UndefinedMetricWarning: Precision is ill-defined and being set to 0.0 in labels with no predicted samples. Use `zero_division` parameter to control this behavior.\n",
      "  _warn_prf(average, modifier, f\"{metric.capitalize()} is\", len(result))\n"
     ]
    }
   ],
   "source": [
    "model = KNeighborsClassifier(n_neighbors=11)\n",
    "\n",
    "# fit model\n",
    "model.fit(features_train, target_train)\n",
    "\n",
    "test_pred = model.predict(features_test)\n",
    "test_proba = model.predict_proba(features_test)\n",
    "train_pred = model.predict(features_train)\n",
    "train_proba = model.predict_proba(features_train)\n",
    "\n",
    "print(\"Accuracy:\", metrics.accuracy_score(target_test, test_pred))\n",
    "# print(\"AUC Score:\", metrics.roc_auc_score(target_test, test_proba, multi_class='ovr'))\n",
    "print(\"Precision:\", metrics.precision_score(target_test, test_pred, average='weighted'))\n",
    "print(\"Recall:\",metrics.recall_score(target_test, test_pred, average='weighted'))\n",
    "print(\"F1:\", metrics.f1_score(target_test, test_pred, average='weighted'))"
   ]
  },
  {
   "cell_type": "code",
   "execution_count": 56,
   "id": "c9173b14-7b66-421d-8d8a-6feefd08d868",
   "metadata": {},
   "outputs": [
    {
     "name": "stdout",
     "output_type": "stream",
     "text": [
      "[[2164    0    0]\n",
      " [  15    0    0]\n",
      " [   2    0   24]]\n"
     ]
    },
    {
     "data": {
      "image/png": "[encoded data removed]",
      "text/plain": [
       "<Figure size 640x480 with 2 Axes>"
      ]
     },
     "metadata": {},
     "output_type": "display_data"
    }
   ],
   "source": [
    "# Create the confusion matrix\n",
    "cm = metrics.confusion_matrix(target_test, test_pred)\n",
    "\n",
    "# Print the confusion matrix\n",
    "print(cm)\n",
    "\n",
    "# Visualize the confusion matrix using seaborn\n",
    "sns.heatmap(cm, annot=True, fmt='g')\n",
    "plt.xlabel('Predicted')\n",
    "plt.ylabel('Actual')\n",
    "plt.show()"
   ]
  },
  {
   "cell_type": "code",
   "execution_count": 59,
   "id": "38817371-9ffe-4e6c-bde5-3b3d645017cd",
   "metadata": {},
   "outputs": [
    {
     "name": "stdout",
     "output_type": "stream",
     "text": [
      "Accuracy: 0.981859410430839\n",
      "Precision: 0.9738738235020037\n",
      "Recall: 0.981859410430839\n",
      "F1: 0.9772272549095175\n"
     ]
    }
   ],
   "source": [
    "# Create a Random Forest Classifier\n",
    "model = RandomForestClassifier(n_estimators=100, random_state=42)\n",
    "\n",
    "# Fit the model to the training data\n",
    "model.fit(features_train, target_train)\n",
    "\n",
    "test_pred = model.predict(features_test)\n",
    "test_proba = model.predict_proba(features_test)\n",
    "train_pred = model.predict(features_train)\n",
    "train_proba = model.predict_proba(features_train)\n",
    "\n",
    "print(\"Accuracy:\", metrics.accuracy_score(target_test, test_pred))\n",
    "# print(\"AUC Score:\", metrics.roc_auc_score(target_test, test_proba, multi_class='ovr'))\n",
    "print(\"Precision:\", metrics.precision_score(target_test, test_pred, average='weighted'))\n",
    "print(\"Recall:\",metrics.recall_score(target_test, test_pred, average='weighted'))\n",
    "print(\"F1:\", metrics.f1_score(target_test, test_pred, average='weighted'))"
   ]
  },
  {
   "cell_type": "code",
   "execution_count": null,
   "id": "5d0c4614",
   "metadata": {},
   "outputs": [],
   "source": [
    "# Create the confusion matrix\n",
    "cm = metrics.confusion_matrix(target_test, test_pred)\n",
    "\n",
    "# Print the confusion matrix\n",
    "print(cm)\n",
    "\n",
    "# Visualize the confusion matrix using seaborn\n",
    "sns.heatmap(cm, annot=True, fmt='g')\n",
    "plt.xlabel('Predicted')\n",
    "plt.ylabel('Actual')\n",
    "plt.show()"
   ]
  },
  {
   "cell_type": "code",
   "execution_count": null,
   "id": "5dcf565a",
   "metadata": {},
   "outputs": [],
   "source": [
    "#lets find the omnibus\n",
    "fulldata.loc[5426,\"bill_number\"]"
   ]
  },
  {
   "cell_type": "code",
   "execution_count": null,
   "id": "69065593",
   "metadata": {},
   "outputs": [],
   "source": [
    "#compute cosign similarities\n",
    "from sklearn.metrics.pairwise import linear_kernel\n",
    "#change the indices to match the document index you want to compare to\n",
    "cosine_similarities = linear_kernel(X_train_text[5426:5427], X_train_text).flatten()\n",
    "cosine_similarities"
   ]
  },
  {
   "cell_type": "code",
   "execution_count": null,
   "id": "bf8af6d6",
   "metadata": {},
   "outputs": [],
   "source": [
    "X_train_text"
   ]
  },
  {
   "cell_type": "code",
   "execution_count": null,
   "id": "83f97244",
   "metadata": {},
   "outputs": [],
   "source": [
    "related_docs_indices = cosine_similarities.argsort()[:-7:-1]\n",
    "related_docs_indices"
   ]
  },
  {
   "cell_type": "code",
   "execution_count": null,
   "id": "575d74d9",
   "metadata": {},
   "outputs": [],
   "source": [
    "fulldata.loc[related_docs_indices,\"bill_number\"]"
   ]
  },
  {
   "cell_type": "code",
   "execution_count": null,
   "id": "a8836618",
   "metadata": {},
   "outputs": [],
   "source": [
    "cosine_similarities[related_docs_indices]"
   ]
  },
  {
   "cell_type": "code",
   "execution_count": null,
   "id": "c896a58d",
   "metadata": {},
   "outputs": [],
   "source": [
    "from gensim.models import Word2Vec\n",
    "from sklearn.metrics.pairwise import cosine_similarity\n",
    "import numpy as np\n",
    "fulldata.head()"
   ]
  },
  {
   "cell_type": "code",
   "execution_count": null,
   "id": "6d50f14a",
   "metadata": {},
   "outputs": [],
   "source": [
    "tokenized_docs = [doc.lower().split() for doc in fulldata[\"text\"]]\n",
    "model = Word2Vec(tokenized_docs, min_count=1, vector_size=100)"
   ]
  },
  {
   "cell_type": "code",
   "execution_count": null,
   "id": "7a949efb",
   "metadata": {},
   "outputs": [],
   "source": [
    "def get_doc_vector(doc, model):\n",
    "    doc_vector = np.zeros(model.vector_size)\n",
    "    word_count = 0\n",
    "    for word in doc:\n",
    "        if word in model.wv:\n",
    "            doc_vector += model.wv[word]\n",
    "            word_count += 1\n",
    "    if word_count != 0:\n",
    "        return doc_vector / word_count\n",
    "    else:\n",
    "        return np.zeros(model.vector_size)\n",
    "\n",
    "doc_vectors = [get_doc_vector(doc, model) for doc in tokenized_docs]"
   ]
  },
  {
   "cell_type": "code",
   "execution_count": null,
   "id": "2ed103c3",
   "metadata": {},
   "outputs": [],
   "source": [
    "from numpy import dot\n",
    "from numpy.linalg import norm\n",
    "\n",
    "omni = doc_vectors[5246]\n",
    "sims = []\n",
    "def compute_cosin(x,omni):\n",
    "    cos_sim = dot(x,omni)/(norm(x)*norm(omni))\n",
    "    return cos_sim\n",
    "for x in doc_vectors:\n",
    "    sim = compute_cosin(x,omni)\n",
    "    sims.append(sim)"
   ]
  },
  {
   "cell_type": "code",
   "execution_count": null,
   "id": "f969be07",
   "metadata": {},
   "outputs": [],
   "source": [
    "related_docs_indices = np.array(sims).argsort()[:-7:-1]\n",
    "related_docs_indices"
   ]
  },
  {
   "cell_type": "code",
   "execution_count": null,
   "id": "b873188c",
   "metadata": {},
   "outputs": [],
   "source": [
    "fulldata.loc[related_docs_indices,\"bill_number\"]"
   ]
  },
  {
   "cell_type": "code",
   "execution_count": null,
   "id": "f0d95280",
   "metadata": {},
   "outputs": [],
   "source": [
    "sims[related_docs_indices]"
   ]
  }
 ],
 "metadata": {
  "kernelspec": {
   "display_name": "Python 3",
   "language": "python",
   "name": "python3"
  },
  "language_info": {
   "codemirror_mode": {
    "name": "ipython",
    "version": 3
   },
   "file_extension": ".py",
   "mimetype": "text/x-python",
   "name": "python",
   "nbconvert_exporter": "python",
   "pygments_lexer": "ipython3",
   "version": "3.12.6"
  }
 },
 "nbformat": 4,
 "nbformat_minor": 5
}
