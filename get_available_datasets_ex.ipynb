{
 "cells": [
  {
   "cell_type": "code",
   "execution_count": null,
   "metadata": {},
   "outputs": [],
   "source": [
    "import json\n",
    "import logging\n",
    "\n",
    "from urllib.request import urlopen\n",
    "\n",
    "key = \"API_KEY\"\n",
    "# from src.utils.decoders import html_decoder, pdf_decoder"
   ]
  },
  {
   "cell_type": "code",
   "execution_count": 7,
   "metadata": {},
   "outputs": [],
   "source": [
    "def get_available_datasets(api_key: str):\n",
    "    \"\"\" Get datasets that are available to download at the time of running \"\"\"\n",
    "    \n",
    "    api_url = \"https://api.legiscan.com/?key={0}&op=getDatasetList\".format(api_key)\n",
    "    r = urlopen(api_url).read().decode()\n",
    "    response = json.loads(r)\n",
    "    dataset_list = response.get('datasetlist')\n",
    "    # logging.debug('num datasets: {}'.format(len(response)))\n",
    "\n",
    "    # logging.debug(dataset_list)\n",
    "\n",
    "    return dataset_list"
   ]
  },
  {
   "cell_type": "code",
   "execution_count": null,
   "metadata": {},
   "outputs": [],
   "source": []
  },
  {
   "cell_type": "code",
   "execution_count": 8,
   "metadata": {},
   "outputs": [],
   "source": [
    "datasets = get_available_datasets(key)"
   ]
  },
  {
   "cell_type": "code",
   "execution_count": 9,
   "metadata": {},
   "outputs": [
    {
     "data": {
      "text/plain": [
       "{'state_id': 1,\n",
       " 'session_id': 2148,\n",
       " 'year_start': 2025,\n",
       " 'year_end': 2025,\n",
       " 'prefile': 1,\n",
       " 'sine_die': 0,\n",
       " 'prior': 0,\n",
       " 'special': 0,\n",
       " 'session_tag': 'Regular Session',\n",
       " 'session_title': '2025 Regular Session',\n",
       " 'session_name': '2025 Regular Session',\n",
       " 'dataset_date': '2024-10-20',\n",
       " 'dataset_hash': '6b5370a6fb840ffe8c489ec142680cc8',\n",
       " 'dataset_size': 103491,\n",
       " 'access_key': '3J1WzLe9WaiIdGNuCfrcNl'}"
      ]
     },
     "execution_count": 9,
     "metadata": {},
     "output_type": "execute_result"
    }
   ],
   "source": [
    "datasets[0]"
   ]
  },
  {
   "cell_type": "code",
   "execution_count": 10,
   "metadata": {},
   "outputs": [],
   "source": [
    "file = open('available_datsets.txt','w')\n",
    "for item in datasets:\n",
    "\tfile.write(json.dumps(item) + \"\\n\")\n",
    "file.close()"
   ]
  },
  {
   "cell_type": "code",
   "execution_count": null,
   "metadata": {},
   "outputs": [],
   "source": []
  }
 ],
 "metadata": {
  "kernelspec": {
   "display_name": "Python 3",
   "language": "python",
   "name": "python3"
  },
  "language_info": {
   "codemirror_mode": {
    "name": "ipython",
    "version": 3
   },
   "file_extension": ".py",
   "mimetype": "text/x-python",
   "name": "python",
   "nbconvert_exporter": "python",
   "pygments_lexer": "ipython3",
   "version": "3.12.0"
  }
 },
 "nbformat": 4,
 "nbformat_minor": 2
}
