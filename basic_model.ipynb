{
 "cells": [
  {
   "cell_type": "code",
   "execution_count": 1,
   "metadata": {},
   "outputs": [
    {
     "name": "stderr",
     "output_type": "stream",
     "text": [
      "[nltk_data] Downloading package stopwords to\n",
      "[nltk_data]     /Users/maanyashanker/nltk_data...\n",
      "[nltk_data]   Package stopwords is already up-to-date!\n"
     ]
    }
   ],
   "source": [
    "import pandas as pd\n",
    "import numpy as np\n",
    "import os\n",
    "import re\n",
    "import pickle\n",
    "\n",
    "\n",
    "from wordcloud import WordCloud\n",
    "\n",
    "# libraries to clean the data\n",
    "import gensim\n",
    "from gensim.utils import simple_preprocess\n",
    "import nltk\n",
    "nltk.download('stopwords')\n",
    "from nltk.corpus import stopwords\n",
    "\n",
    "import pyLDAvis\n",
    "import pyLDAvis.gensim_models as gensimvis\n",
    "\n",
    "# To vectorize and split the data appropriately\n",
    "from sklearn.feature_extraction.text import TfidfVectorizer\n",
    "from sklearn.model_selection import train_test_split\n",
    "\n",
    "# To model the Gaussian Navie Bayes classifier\n",
    "from sklearn.naive_bayes import MultinomialNB\n",
    "\n",
    "# SVM\n",
    "from sklearn import svm\n",
    "\n",
    "# KNN\n",
    "from sklearn.neighbors import KNeighborsClassifier\n",
    "\n",
    "# To calculate the accuracy score of the model\n",
    "from sklearn.metrics import accuracy_score\n",
    "from sklearn.preprocessing import LabelEncoder\n",
    "\n",
    "# scoring models\n",
    "from sklearn import metrics\n",
    "from sklearn.metrics import classification_report"
   ]
  },
  {
   "cell_type": "code",
   "execution_count": 2,
   "metadata": {},
   "outputs": [],
   "source": [
    "bill = pd.read_csv(\"PA/2023-2024_Regular_Session/csv/bills.csv\")\n",
    "docs = pd.read_csv(\"PA/2023-2024_Regular_Session/csv/documents.csv\")\n",
    "history = pd.read_csv(\"PA/2023-2024_Regular_Session/csv/history.csv\")\n",
    "people = pd.read_csv(\"PA/2023-2024_Regular_Session/csv/people.csv\")\n",
    "rollcalls = pd.read_csv(\"PA/2023-2024_Regular_Session/csv/rollcalls.csv\")\n",
    "sponsors = pd.read_csv(\"PA/2023-2024_Regular_Session/csv/sponsors.csv\")\n",
    "votes = pd.read_csv(\"PA/2023-2024_Regular_Session/csv/votes.csv\")\n",
    "# texts = pd.read_csv(\"bill_texts.csv\")"
   ]
  },
  {
   "cell_type": "code",
   "execution_count": 3,
   "metadata": {},
   "outputs": [
    {
     "data": {
      "text/html": [
       "<div>\n",
       "<style scoped>\n",
       "    .dataframe tbody tr th:only-of-type {\n",
       "        vertical-align: middle;\n",
       "    }\n",
       "\n",
       "    .dataframe tbody tr th {\n",
       "        vertical-align: top;\n",
       "    }\n",
       "\n",
       "    .dataframe thead th {\n",
       "        text-align: right;\n",
       "    }\n",
       "</style>\n",
       "<table border=\"1\" class=\"dataframe\">\n",
       "  <thead>\n",
       "    <tr style=\"text-align: right;\">\n",
       "      <th></th>\n",
       "      <th>bill_id</th>\n",
       "      <th>session_id</th>\n",
       "      <th>bill_number</th>\n",
       "      <th>status</th>\n",
       "      <th>status_desc</th>\n",
       "      <th>status_date</th>\n",
       "      <th>title</th>\n",
       "      <th>description</th>\n",
       "      <th>committee_id</th>\n",
       "      <th>committee</th>\n",
       "      <th>last_action_date</th>\n",
       "      <th>last_action</th>\n",
       "      <th>url</th>\n",
       "      <th>state_link</th>\n",
       "    </tr>\n",
       "  </thead>\n",
       "  <tbody>\n",
       "    <tr>\n",
       "      <th>0</th>\n",
       "      <td>1724272</td>\n",
       "      <td>2035</td>\n",
       "      <td>HB1</td>\n",
       "      <td>2</td>\n",
       "      <td>Engrossed</td>\n",
       "      <td>2023-04-25</td>\n",
       "      <td>A Joint Resolution proposing an amendment to t...</td>\n",
       "      <td>A Joint Resolution proposing an amendment to t...</td>\n",
       "      <td>84</td>\n",
       "      <td>Senate State Government</td>\n",
       "      <td>2023-05-08</td>\n",
       "      <td>Referred to STATE GOVERNMENT</td>\n",
       "      <td>https://legiscan.com/PA/bill/HB1/2023</td>\n",
       "      <td>https://www.legis.state.pa.us/cfdocs/billinfo/...</td>\n",
       "    </tr>\n",
       "    <tr>\n",
       "      <th>1</th>\n",
       "      <td>1723866</td>\n",
       "      <td>2035</td>\n",
       "      <td>HB2</td>\n",
       "      <td>2</td>\n",
       "      <td>Engrossed</td>\n",
       "      <td>2023-03-07</td>\n",
       "      <td>In limitation of time, further providing for i...</td>\n",
       "      <td>An Act amending Title 42 (Judiciary and Judici...</td>\n",
       "      <td>77</td>\n",
       "      <td>Senate Judiciary</td>\n",
       "      <td>2023-03-28</td>\n",
       "      <td>Referred to JUDICIARY</td>\n",
       "      <td>https://legiscan.com/PA/bill/HB2/2023</td>\n",
       "      <td>https://www.legis.state.pa.us/cfdocs/billinfo/...</td>\n",
       "    </tr>\n",
       "    <tr>\n",
       "      <th>2</th>\n",
       "      <td>1773739</td>\n",
       "      <td>2035</td>\n",
       "      <td>HB19</td>\n",
       "      <td>1</td>\n",
       "      <td>Introduced</td>\n",
       "      <td>2023-07-05</td>\n",
       "      <td>Further providing for definitions, for respira...</td>\n",
       "      <td>An Act amending the act of December 20, 1985 (...</td>\n",
       "      <td>57</td>\n",
       "      <td>House Professional Licensure</td>\n",
       "      <td>2023-07-05</td>\n",
       "      <td>Referred to PROFESSIONAL LICENSURE</td>\n",
       "      <td>https://legiscan.com/PA/bill/HB19/2023</td>\n",
       "      <td>https://www.legis.state.pa.us/cfdocs/billinfo/...</td>\n",
       "    </tr>\n",
       "    <tr>\n",
       "      <th>3</th>\n",
       "      <td>1745716</td>\n",
       "      <td>2035</td>\n",
       "      <td>HB20</td>\n",
       "      <td>1</td>\n",
       "      <td>Introduced</td>\n",
       "      <td>2023-03-23</td>\n",
       "      <td>Providing for registration of extraordinary wa...</td>\n",
       "      <td>An Act providing for registration of extraordi...</td>\n",
       "      <td>45</td>\n",
       "      <td>House Environmental Resources &amp; Energy</td>\n",
       "      <td>2023-03-23</td>\n",
       "      <td>Referred to ENVIRONMENTAL RESOURCES AND ENERGY</td>\n",
       "      <td>https://legiscan.com/PA/bill/HB20/2023</td>\n",
       "      <td>https://www.legis.state.pa.us/cfdocs/billinfo/...</td>\n",
       "    </tr>\n",
       "    <tr>\n",
       "      <th>4</th>\n",
       "      <td>1724313</td>\n",
       "      <td>2035</td>\n",
       "      <td>HB21</td>\n",
       "      <td>1</td>\n",
       "      <td>Introduced</td>\n",
       "      <td>2023-03-07</td>\n",
       "      <td>In table games, further providing for table ga...</td>\n",
       "      <td>An Act amending Title 4 (Amusements) of the Pe...</td>\n",
       "      <td>47</td>\n",
       "      <td>House Finance</td>\n",
       "      <td>2023-03-07</td>\n",
       "      <td>Referred to FINANCE</td>\n",
       "      <td>https://legiscan.com/PA/bill/HB21/2023</td>\n",
       "      <td>https://www.legis.state.pa.us/cfdocs/billinfo/...</td>\n",
       "    </tr>\n",
       "  </tbody>\n",
       "</table>\n",
       "</div>"
      ],
      "text/plain": [
       "   bill_id  session_id bill_number  status status_desc status_date  \\\n",
       "0  1724272        2035         HB1       2   Engrossed  2023-04-25   \n",
       "1  1723866        2035         HB2       2   Engrossed  2023-03-07   \n",
       "2  1773739        2035        HB19       1  Introduced  2023-07-05   \n",
       "3  1745716        2035        HB20       1  Introduced  2023-03-23   \n",
       "4  1724313        2035        HB21       1  Introduced  2023-03-07   \n",
       "\n",
       "                                               title  \\\n",
       "0  A Joint Resolution proposing an amendment to t...   \n",
       "1  In limitation of time, further providing for i...   \n",
       "2  Further providing for definitions, for respira...   \n",
       "3  Providing for registration of extraordinary wa...   \n",
       "4  In table games, further providing for table ga...   \n",
       "\n",
       "                                         description  committee_id  \\\n",
       "0  A Joint Resolution proposing an amendment to t...            84   \n",
       "1  An Act amending Title 42 (Judiciary and Judici...            77   \n",
       "2  An Act amending the act of December 20, 1985 (...            57   \n",
       "3  An Act providing for registration of extraordi...            45   \n",
       "4  An Act amending Title 4 (Amusements) of the Pe...            47   \n",
       "\n",
       "                                committee last_action_date  \\\n",
       "0                 Senate State Government       2023-05-08   \n",
       "1                        Senate Judiciary       2023-03-28   \n",
       "2            House Professional Licensure       2023-07-05   \n",
       "3  House Environmental Resources & Energy       2023-03-23   \n",
       "4                           House Finance       2023-03-07   \n",
       "\n",
       "                                      last_action  \\\n",
       "0                    Referred to STATE GOVERNMENT   \n",
       "1                           Referred to JUDICIARY   \n",
       "2              Referred to PROFESSIONAL LICENSURE   \n",
       "3  Referred to ENVIRONMENTAL RESOURCES AND ENERGY   \n",
       "4                             Referred to FINANCE   \n",
       "\n",
       "                                      url  \\\n",
       "0   https://legiscan.com/PA/bill/HB1/2023   \n",
       "1   https://legiscan.com/PA/bill/HB2/2023   \n",
       "2  https://legiscan.com/PA/bill/HB19/2023   \n",
       "3  https://legiscan.com/PA/bill/HB20/2023   \n",
       "4  https://legiscan.com/PA/bill/HB21/2023   \n",
       "\n",
       "                                          state_link  \n",
       "0  https://www.legis.state.pa.us/cfdocs/billinfo/...  \n",
       "1  https://www.legis.state.pa.us/cfdocs/billinfo/...  \n",
       "2  https://www.legis.state.pa.us/cfdocs/billinfo/...  \n",
       "3  https://www.legis.state.pa.us/cfdocs/billinfo/...  \n",
       "4  https://www.legis.state.pa.us/cfdocs/billinfo/...  "
      ]
     },
     "execution_count": 3,
     "metadata": {},
     "output_type": "execute_result"
    }
   ],
   "source": [
    "bill.head()"
   ]
  },
  {
   "cell_type": "markdown",
   "metadata": {},
   "source": [
    "Status - Status Number\n",
    "Passed - 4\n",
    "Enrolled - 3\n",
    "Engrossed - 2\n",
    "Introduced - 1"
   ]
  },
  {
   "cell_type": "code",
   "execution_count": 4,
   "metadata": {},
   "outputs": [
    {
     "data": {
      "text/plain": [
       "Introduced    3783\n",
       "Engrossed      473\n",
       "Passed         471\n",
       "Enrolled        32\n",
       "Name: status_desc, dtype: int64"
      ]
     },
     "execution_count": 4,
     "metadata": {},
     "output_type": "execute_result"
    }
   ],
   "source": [
    "bill[\"status_desc\"].value_counts()"
   ]
  },
  {
   "cell_type": "code",
   "execution_count": 5,
   "metadata": {},
   "outputs": [
    {
     "data": {
      "text/plain": [
       "1    3783\n",
       "2     473\n",
       "4     471\n",
       "3      32\n",
       "0       3\n",
       "Name: status, dtype: int64"
      ]
     },
     "execution_count": 5,
     "metadata": {},
     "output_type": "execute_result"
    }
   ],
   "source": [
    "bill[\"status\"].value_counts()"
   ]
  },
  {
   "cell_type": "code",
   "execution_count": 6,
   "metadata": {},
   "outputs": [
    {
     "data": {
      "text/plain": [
       "bill_id               0\n",
       "session_id            0\n",
       "bill_number           0\n",
       "status                0\n",
       "status_desc           3\n",
       "status_date           3\n",
       "title                 0\n",
       "description           0\n",
       "committee_id          0\n",
       "committee           926\n",
       "last_action_date      2\n",
       "last_action           2\n",
       "url                   0\n",
       "state_link            0\n",
       "dtype: int64"
      ]
     },
     "execution_count": 6,
     "metadata": {},
     "output_type": "execute_result"
    }
   ],
   "source": [
    "bill.isnull().sum()"
   ]
  },
  {
   "cell_type": "code",
   "execution_count": 7,
   "metadata": {},
   "outputs": [
    {
     "data": {
      "text/html": [
       "<div>\n",
       "<style scoped>\n",
       "    .dataframe tbody tr th:only-of-type {\n",
       "        vertical-align: middle;\n",
       "    }\n",
       "\n",
       "    .dataframe tbody tr th {\n",
       "        vertical-align: top;\n",
       "    }\n",
       "\n",
       "    .dataframe thead th {\n",
       "        text-align: right;\n",
       "    }\n",
       "</style>\n",
       "<table border=\"1\" class=\"dataframe\">\n",
       "  <thead>\n",
       "    <tr style=\"text-align: right;\">\n",
       "      <th></th>\n",
       "      <th>bill_id</th>\n",
       "      <th>session_id</th>\n",
       "      <th>bill_number</th>\n",
       "      <th>status</th>\n",
       "      <th>status_desc</th>\n",
       "      <th>status_date</th>\n",
       "      <th>title</th>\n",
       "      <th>description</th>\n",
       "      <th>committee_id</th>\n",
       "      <th>committee</th>\n",
       "      <th>last_action_date</th>\n",
       "      <th>last_action</th>\n",
       "      <th>url</th>\n",
       "      <th>state_link</th>\n",
       "    </tr>\n",
       "  </thead>\n",
       "  <tbody>\n",
       "    <tr>\n",
       "      <th>2130</th>\n",
       "      <td>1871580</td>\n",
       "      <td>2035</td>\n",
       "      <td>HB2205</td>\n",
       "      <td>0</td>\n",
       "      <td>NaN</td>\n",
       "      <td>NaN</td>\n",
       "      <td>Providing for protection of personal informati...</td>\n",
       "      <td>An Act providing for protection of personal in...</td>\n",
       "      <td>0</td>\n",
       "      <td>NaN</td>\n",
       "      <td>NaN</td>\n",
       "      <td>NaN</td>\n",
       "      <td>https://legiscan.com/PA/bill/HB2205/2023</td>\n",
       "      <td>https://www.legis.state.pa.us/cfdocs/billinfo/...</td>\n",
       "    </tr>\n",
       "    <tr>\n",
       "      <th>2948</th>\n",
       "      <td>1871546</td>\n",
       "      <td>2035</td>\n",
       "      <td>HR388</td>\n",
       "      <td>0</td>\n",
       "      <td>NaN</td>\n",
       "      <td>NaN</td>\n",
       "      <td>Directing the Legislative Budget and Finance C...</td>\n",
       "      <td>A Resolution directing the Legislative Budget ...</td>\n",
       "      <td>0</td>\n",
       "      <td>NaN</td>\n",
       "      <td>NaN</td>\n",
       "      <td>NaN</td>\n",
       "      <td>https://legiscan.com/PA/bill/HR388/2023</td>\n",
       "      <td>https://www.legis.state.pa.us/cfdocs/billinfo/...</td>\n",
       "    </tr>\n",
       "    <tr>\n",
       "      <th>2972</th>\n",
       "      <td>1877128</td>\n",
       "      <td>2035</td>\n",
       "      <td>HR412</td>\n",
       "      <td>0</td>\n",
       "      <td>NaN</td>\n",
       "      <td>NaN</td>\n",
       "      <td>Amending the General Operating Rules of the Ho...</td>\n",
       "      <td>A Resolution amending the General Operating Ru...</td>\n",
       "      <td>0</td>\n",
       "      <td>NaN</td>\n",
       "      <td>2024-07-01</td>\n",
       "      <td>Laid on the table (Pursuant to House Rule 71)</td>\n",
       "      <td>https://legiscan.com/PA/bill/HR412/2023</td>\n",
       "      <td>https://www.legis.state.pa.us/cfdocs/billinfo/...</td>\n",
       "    </tr>\n",
       "  </tbody>\n",
       "</table>\n",
       "</div>"
      ],
      "text/plain": [
       "      bill_id  session_id bill_number  status status_desc status_date  \\\n",
       "2130  1871580        2035      HB2205       0         NaN         NaN   \n",
       "2948  1871546        2035       HR388       0         NaN         NaN   \n",
       "2972  1877128        2035       HR412       0         NaN         NaN   \n",
       "\n",
       "                                                  title  \\\n",
       "2130  Providing for protection of personal informati...   \n",
       "2948  Directing the Legislative Budget and Finance C...   \n",
       "2972  Amending the General Operating Rules of the Ho...   \n",
       "\n",
       "                                            description  committee_id  \\\n",
       "2130  An Act providing for protection of personal in...             0   \n",
       "2948  A Resolution directing the Legislative Budget ...             0   \n",
       "2972  A Resolution amending the General Operating Ru...             0   \n",
       "\n",
       "     committee last_action_date  \\\n",
       "2130       NaN              NaN   \n",
       "2948       NaN              NaN   \n",
       "2972       NaN       2024-07-01   \n",
       "\n",
       "                                        last_action  \\\n",
       "2130                                            NaN   \n",
       "2948                                            NaN   \n",
       "2972  Laid on the table (Pursuant to House Rule 71)   \n",
       "\n",
       "                                           url  \\\n",
       "2130  https://legiscan.com/PA/bill/HB2205/2023   \n",
       "2948   https://legiscan.com/PA/bill/HR388/2023   \n",
       "2972   https://legiscan.com/PA/bill/HR412/2023   \n",
       "\n",
       "                                             state_link  \n",
       "2130  https://www.legis.state.pa.us/cfdocs/billinfo/...  \n",
       "2948  https://www.legis.state.pa.us/cfdocs/billinfo/...  \n",
       "2972  https://www.legis.state.pa.us/cfdocs/billinfo/...  "
      ]
     },
     "execution_count": 7,
     "metadata": {},
     "output_type": "execute_result"
    }
   ],
   "source": [
    "bill[bill['status_desc'].isna()]"
   ]
  },
  {
   "cell_type": "code",
   "execution_count": 8,
   "metadata": {},
   "outputs": [],
   "source": [
    "bill.dropna(subset=['status_desc', 'status_date', 'committee', 'last_action_date', 'last_action'], inplace=True)"
   ]
  },
  {
   "cell_type": "code",
   "execution_count": 9,
   "metadata": {},
   "outputs": [
    {
     "data": {
      "text/plain": [
       "3836"
      ]
     },
     "execution_count": 9,
     "metadata": {},
     "output_type": "execute_result"
    }
   ],
   "source": [
    "len(bill)"
   ]
  },
  {
   "cell_type": "code",
   "execution_count": 10,
   "metadata": {},
   "outputs": [],
   "source": [
    "df = bill.drop([\"status_desc\", \"committee\", \"state_link\", \"url\", \"bill_number\", \"session_id\", \"status_date\", \"last_action_date\"], axis=1)"
   ]
  },
  {
   "cell_type": "code",
   "execution_count": 11,
   "metadata": {},
   "outputs": [
    {
     "data": {
      "text/plain": [
       "bill_id          int64\n",
       "status           int64\n",
       "title           object\n",
       "description     object\n",
       "committee_id     int64\n",
       "last_action     object\n",
       "dtype: object"
      ]
     },
     "execution_count": 11,
     "metadata": {},
     "output_type": "execute_result"
    }
   ],
   "source": [
    "df.dtypes"
   ]
  },
  {
   "cell_type": "code",
   "execution_count": 12,
   "metadata": {},
   "outputs": [],
   "source": [
    "df = df.astype({'title':'string', 'description':'string', 'last_action':'string'})"
   ]
  },
  {
   "cell_type": "code",
   "execution_count": 13,
   "metadata": {},
   "outputs": [
    {
     "data": {
      "text/html": [
       "<div>\n",
       "<style scoped>\n",
       "    .dataframe tbody tr th:only-of-type {\n",
       "        vertical-align: middle;\n",
       "    }\n",
       "\n",
       "    .dataframe tbody tr th {\n",
       "        vertical-align: top;\n",
       "    }\n",
       "\n",
       "    .dataframe thead th {\n",
       "        text-align: right;\n",
       "    }\n",
       "</style>\n",
       "<table border=\"1\" class=\"dataframe\">\n",
       "  <thead>\n",
       "    <tr style=\"text-align: right;\">\n",
       "      <th></th>\n",
       "      <th>bill_id</th>\n",
       "      <th>status</th>\n",
       "      <th>title</th>\n",
       "      <th>description</th>\n",
       "      <th>committee_id</th>\n",
       "      <th>last_action</th>\n",
       "    </tr>\n",
       "  </thead>\n",
       "  <tbody>\n",
       "    <tr>\n",
       "      <th>0</th>\n",
       "      <td>1724272</td>\n",
       "      <td>2</td>\n",
       "      <td>A Joint Resolution proposing an amendment to t...</td>\n",
       "      <td>A Joint Resolution proposing an amendment to t...</td>\n",
       "      <td>84</td>\n",
       "      <td>Referred to STATE GOVERNMENT</td>\n",
       "    </tr>\n",
       "    <tr>\n",
       "      <th>1</th>\n",
       "      <td>1723866</td>\n",
       "      <td>2</td>\n",
       "      <td>In limitation of time, further providing for i...</td>\n",
       "      <td>An Act amending Title 42 (Judiciary and Judici...</td>\n",
       "      <td>77</td>\n",
       "      <td>Referred to JUDICIARY</td>\n",
       "    </tr>\n",
       "    <tr>\n",
       "      <th>2</th>\n",
       "      <td>1773739</td>\n",
       "      <td>1</td>\n",
       "      <td>Further providing for definitions, for respira...</td>\n",
       "      <td>An Act amending the act of December 20, 1985 (...</td>\n",
       "      <td>57</td>\n",
       "      <td>Referred to PROFESSIONAL LICENSURE</td>\n",
       "    </tr>\n",
       "    <tr>\n",
       "      <th>3</th>\n",
       "      <td>1745716</td>\n",
       "      <td>1</td>\n",
       "      <td>Providing for registration of extraordinary wa...</td>\n",
       "      <td>An Act providing for registration of extraordi...</td>\n",
       "      <td>45</td>\n",
       "      <td>Referred to ENVIRONMENTAL RESOURCES AND ENERGY</td>\n",
       "    </tr>\n",
       "    <tr>\n",
       "      <th>4</th>\n",
       "      <td>1724313</td>\n",
       "      <td>1</td>\n",
       "      <td>In table games, further providing for table ga...</td>\n",
       "      <td>An Act amending Title 4 (Amusements) of the Pe...</td>\n",
       "      <td>47</td>\n",
       "      <td>Referred to FINANCE</td>\n",
       "    </tr>\n",
       "  </tbody>\n",
       "</table>\n",
       "</div>"
      ],
      "text/plain": [
       "   bill_id  status                                              title  \\\n",
       "0  1724272       2  A Joint Resolution proposing an amendment to t...   \n",
       "1  1723866       2  In limitation of time, further providing for i...   \n",
       "2  1773739       1  Further providing for definitions, for respira...   \n",
       "3  1745716       1  Providing for registration of extraordinary wa...   \n",
       "4  1724313       1  In table games, further providing for table ga...   \n",
       "\n",
       "                                         description  committee_id  \\\n",
       "0  A Joint Resolution proposing an amendment to t...            84   \n",
       "1  An Act amending Title 42 (Judiciary and Judici...            77   \n",
       "2  An Act amending the act of December 20, 1985 (...            57   \n",
       "3  An Act providing for registration of extraordi...            45   \n",
       "4  An Act amending Title 4 (Amusements) of the Pe...            47   \n",
       "\n",
       "                                      last_action  \n",
       "0                    Referred to STATE GOVERNMENT  \n",
       "1                           Referred to JUDICIARY  \n",
       "2              Referred to PROFESSIONAL LICENSURE  \n",
       "3  Referred to ENVIRONMENTAL RESOURCES AND ENERGY  \n",
       "4                             Referred to FINANCE  "
      ]
     },
     "execution_count": 13,
     "metadata": {},
     "output_type": "execute_result"
    }
   ],
   "source": [
    "df.head()"
   ]
  },
  {
   "cell_type": "code",
   "execution_count": 14,
   "metadata": {},
   "outputs": [],
   "source": [
    "stop_words = stopwords.words('english')\n",
    "\n",
    "# def sent_to_words(sentences):\n",
    "#     for sentence in sentences:\n",
    "#         # deacc=True removes punctuations\n",
    "#         yield(gensim.utils.simple_preprocess(str(sentence), deacc=True))\n",
    "        \n",
    "        \n",
    "def remove_stopwords(texts):\n",
    "    return [word for word in texts.split() if word not in stop_words]\n",
    "\n",
    "def clean_text(text):\n",
    "    text = ' '.join(remove_stopwords(text.lower()))\n",
    "    # remove punctuation\n",
    "    text = str(re.sub('[,.!?]', '', text))\n",
    "    return text\n"
   ]
  },
  {
   "cell_type": "code",
   "execution_count": 15,
   "metadata": {},
   "outputs": [
    {
     "data": {
      "text/html": [
       "<div>\n",
       "<style scoped>\n",
       "    .dataframe tbody tr th:only-of-type {\n",
       "        vertical-align: middle;\n",
       "    }\n",
       "\n",
       "    .dataframe tbody tr th {\n",
       "        vertical-align: top;\n",
       "    }\n",
       "\n",
       "    .dataframe thead th {\n",
       "        text-align: right;\n",
       "    }\n",
       "</style>\n",
       "<table border=\"1\" class=\"dataframe\">\n",
       "  <thead>\n",
       "    <tr style=\"text-align: right;\">\n",
       "      <th></th>\n",
       "      <th>bill_id</th>\n",
       "      <th>status</th>\n",
       "      <th>title</th>\n",
       "      <th>description</th>\n",
       "      <th>committee_id</th>\n",
       "      <th>last_action</th>\n",
       "      <th>clean_title</th>\n",
       "      <th>clean_description</th>\n",
       "      <th>clean_last_action</th>\n",
       "    </tr>\n",
       "  </thead>\n",
       "  <tbody>\n",
       "    <tr>\n",
       "      <th>0</th>\n",
       "      <td>1724272</td>\n",
       "      <td>2</td>\n",
       "      <td>A Joint Resolution proposing an amendment to t...</td>\n",
       "      <td>A Joint Resolution proposing an amendment to t...</td>\n",
       "      <td>84</td>\n",
       "      <td>Referred to STATE GOVERNMENT</td>\n",
       "      <td>joint resolution proposing amendment constitut...</td>\n",
       "      <td>joint resolution proposing amendment constitut...</td>\n",
       "      <td>referred state government</td>\n",
       "    </tr>\n",
       "    <tr>\n",
       "      <th>1</th>\n",
       "      <td>1723866</td>\n",
       "      <td>2</td>\n",
       "      <td>In limitation of time, further providing for i...</td>\n",
       "      <td>An Act amending Title 42 (Judiciary and Judici...</td>\n",
       "      <td>77</td>\n",
       "      <td>Referred to JUDICIARY</td>\n",
       "      <td>limitation time providing infancy insanity imp...</td>\n",
       "      <td>act amending title 42 (judiciary judicial proc...</td>\n",
       "      <td>referred judiciary</td>\n",
       "    </tr>\n",
       "    <tr>\n",
       "      <th>2</th>\n",
       "      <td>1773739</td>\n",
       "      <td>1</td>\n",
       "      <td>Further providing for definitions, for respira...</td>\n",
       "      <td>An Act amending the act of December 20, 1985 (...</td>\n",
       "      <td>57</td>\n",
       "      <td>Referred to PROFESSIONAL LICENSURE</td>\n",
       "      <td>providing definitions respiratory therapists p...</td>\n",
       "      <td>act amending act december 20 1985 (pl457 no112...</td>\n",
       "      <td>referred professional licensure</td>\n",
       "    </tr>\n",
       "    <tr>\n",
       "      <th>3</th>\n",
       "      <td>1745716</td>\n",
       "      <td>1</td>\n",
       "      <td>Providing for registration of extraordinary wa...</td>\n",
       "      <td>An Act providing for registration of extraordi...</td>\n",
       "      <td>45</td>\n",
       "      <td>Referred to ENVIRONMENTAL RESOURCES AND ENERGY</td>\n",
       "      <td>providing registration extraordinary water use...</td>\n",
       "      <td>act providing registration extraordinary water...</td>\n",
       "      <td>referred environmental resources energy</td>\n",
       "    </tr>\n",
       "    <tr>\n",
       "      <th>4</th>\n",
       "      <td>1724313</td>\n",
       "      <td>1</td>\n",
       "      <td>In table games, further providing for table ga...</td>\n",
       "      <td>An Act amending Title 4 (Amusements) of the Pe...</td>\n",
       "      <td>47</td>\n",
       "      <td>Referred to FINANCE</td>\n",
       "      <td>table games providing table game taxes</td>\n",
       "      <td>act amending title 4 (amusements) pennsylvania...</td>\n",
       "      <td>referred finance</td>\n",
       "    </tr>\n",
       "  </tbody>\n",
       "</table>\n",
       "</div>"
      ],
      "text/plain": [
       "   bill_id  status                                              title  \\\n",
       "0  1724272       2  A Joint Resolution proposing an amendment to t...   \n",
       "1  1723866       2  In limitation of time, further providing for i...   \n",
       "2  1773739       1  Further providing for definitions, for respira...   \n",
       "3  1745716       1  Providing for registration of extraordinary wa...   \n",
       "4  1724313       1  In table games, further providing for table ga...   \n",
       "\n",
       "                                         description  committee_id  \\\n",
       "0  A Joint Resolution proposing an amendment to t...            84   \n",
       "1  An Act amending Title 42 (Judiciary and Judici...            77   \n",
       "2  An Act amending the act of December 20, 1985 (...            57   \n",
       "3  An Act providing for registration of extraordi...            45   \n",
       "4  An Act amending Title 4 (Amusements) of the Pe...            47   \n",
       "\n",
       "                                      last_action  \\\n",
       "0                    Referred to STATE GOVERNMENT   \n",
       "1                           Referred to JUDICIARY   \n",
       "2              Referred to PROFESSIONAL LICENSURE   \n",
       "3  Referred to ENVIRONMENTAL RESOURCES AND ENERGY   \n",
       "4                             Referred to FINANCE   \n",
       "\n",
       "                                         clean_title  \\\n",
       "0  joint resolution proposing amendment constitut...   \n",
       "1  limitation time providing infancy insanity imp...   \n",
       "2  providing definitions respiratory therapists p...   \n",
       "3  providing registration extraordinary water use...   \n",
       "4             table games providing table game taxes   \n",
       "\n",
       "                                   clean_description  \\\n",
       "0  joint resolution proposing amendment constitut...   \n",
       "1  act amending title 42 (judiciary judicial proc...   \n",
       "2  act amending act december 20 1985 (pl457 no112...   \n",
       "3  act providing registration extraordinary water...   \n",
       "4  act amending title 4 (amusements) pennsylvania...   \n",
       "\n",
       "                         clean_last_action  \n",
       "0                referred state government  \n",
       "1                       referred judiciary  \n",
       "2          referred professional licensure  \n",
       "3  referred environmental resources energy  \n",
       "4                         referred finance  "
      ]
     },
     "execution_count": 15,
     "metadata": {},
     "output_type": "execute_result"
    }
   ],
   "source": [
    "df['clean_title']= df['title'].apply(lambda x:clean_text(x))\n",
    "df['clean_description']= df['description'].apply(lambda x:clean_text(x))\n",
    "df['clean_last_action']= df['last_action'].apply(lambda x:clean_text(x))\n",
    "\n",
    "df.head()"
   ]
  },
  {
   "cell_type": "code",
   "execution_count": 16,
   "metadata": {},
   "outputs": [],
   "source": [
    "X_train_clean_title_text, X_test_clean_title_text, \\\n",
    "X_train_clean_description_text, X_test_clean_description_text, \\\n",
    "X_train_clean_last_action_text, X_test_clean_last_action_text, \\\n",
    "X_train_comm_id, X_test_comm_id, \\\n",
    "target_train, target_test = train_test_split(\n",
    "    df['clean_title'],\n",
    "    df['clean_description'],\n",
    "    df['clean_last_action'],\n",
    "    df['committee_id'],\n",
    "    df['status'],\n",
    "    test_size=0.2,\n",
    "    stratify=df['status']\n",
    ")"
   ]
  },
  {
   "cell_type": "code",
   "execution_count": 17,
   "metadata": {},
   "outputs": [],
   "source": [
    "# TF-IDF Feature Extraction\n",
    "vectorizer = TfidfVectorizer()\n",
    "X_train_title = vectorizer.fit_transform(X_train_clean_title_text)\n",
    "X_test_title = vectorizer.transform(X_test_clean_title_text)\n",
    "X_train_desc = vectorizer.transform(X_train_clean_description_text)\n",
    "X_test_desc = vectorizer.transform(X_test_clean_description_text)\n",
    "X_train_action = vectorizer.transform(X_train_clean_last_action_text)\n",
    "X_test_action = vectorizer.transform(X_test_clean_last_action_text)\n",
    "\n",
    "features_train = np.concatenate([X_train_title.todense(), X_train_desc.todense(), X_train_action.todense()], axis=1)\n",
    "features_test = np.concatenate([X_test_title.todense(), X_test_desc.todense(), X_test_action.todense()], axis=1)"
   ]
  },
  {
   "cell_type": "code",
   "execution_count": 23,
   "metadata": {},
   "outputs": [
    {
     "name": "stderr",
     "output_type": "stream",
     "text": [
      "/opt/anaconda3/lib/python3.9/site-packages/sklearn/utils/validation.py:593: FutureWarning: np.matrix usage is deprecated in 1.0 and will raise a TypeError in 1.2. Please convert to a numpy array with np.asarray. For more information see: https://numpy.org/doc/stable/reference/generated/numpy.matrix.html\n",
      "  warnings.warn(\n"
     ]
    },
    {
     "name": "stdout",
     "output_type": "stream",
     "text": [
      "Accuracy: 0.890625\n",
      "AUC Score: 0.5842888128738603\n",
      "Precision: 0.793212890625\n",
      "Recall: 0.890625\n",
      "F1: 0.8391012396694215\n"
     ]
    },
    {
     "name": "stderr",
     "output_type": "stream",
     "text": [
      "/opt/anaconda3/lib/python3.9/site-packages/sklearn/utils/validation.py:593: FutureWarning: np.matrix usage is deprecated in 1.0 and will raise a TypeError in 1.2. Please convert to a numpy array with np.asarray. For more information see: https://numpy.org/doc/stable/reference/generated/numpy.matrix.html\n",
      "  warnings.warn(\n",
      "/opt/anaconda3/lib/python3.9/site-packages/sklearn/utils/validation.py:593: FutureWarning: np.matrix usage is deprecated in 1.0 and will raise a TypeError in 1.2. Please convert to a numpy array with np.asarray. For more information see: https://numpy.org/doc/stable/reference/generated/numpy.matrix.html\n",
      "  warnings.warn(\n",
      "/opt/anaconda3/lib/python3.9/site-packages/sklearn/utils/validation.py:593: FutureWarning: np.matrix usage is deprecated in 1.0 and will raise a TypeError in 1.2. Please convert to a numpy array with np.asarray. For more information see: https://numpy.org/doc/stable/reference/generated/numpy.matrix.html\n",
      "  warnings.warn(\n",
      "/opt/anaconda3/lib/python3.9/site-packages/sklearn/utils/validation.py:593: FutureWarning: np.matrix usage is deprecated in 1.0 and will raise a TypeError in 1.2. Please convert to a numpy array with np.asarray. For more information see: https://numpy.org/doc/stable/reference/generated/numpy.matrix.html\n",
      "  warnings.warn(\n",
      "/opt/anaconda3/lib/python3.9/site-packages/sklearn/metrics/_classification.py:1318: UndefinedMetricWarning: Precision is ill-defined and being set to 0.0 in labels with no predicted samples. Use `zero_division` parameter to control this behavior.\n",
      "  _warn_prf(average, modifier, msg_start, len(result))\n"
     ]
    }
   ],
   "source": [
    "model = MultinomialNB(alpha=3)\n",
    "\n",
    "model.fit(features_train, target_train)\n",
    "\n",
    "test_pred = model.predict(features_test)\n",
    "test_proba = model.predict_proba(features_test)\n",
    "train_pred = model.predict(features_train)\n",
    "train_proba = model.predict_proba(features_train)\n",
    "\n",
    "print(\"Accuracy:\", metrics.accuracy_score(target_test, test_pred))\n",
    "print(\"AUC Score:\", metrics.roc_auc_score(target_test, test_proba, multi_class='ovr'))\n",
    "print(\"Precision:\", metrics.precision_score(target_test, test_pred, average='weighted'))\n",
    "print(\"Recall:\",metrics.recall_score(target_test, test_pred, average='weighted'))\n",
    "print(\"F1:\", metrics.f1_score(target_test, test_pred, average='weighted'))\n",
    "\n",
    "# print('Naive Bayes - Train\\n', classification_report(target_train, train_pred, zero_division=0))\n",
    "# print('Naive Bayes - Test\\n', classification_report(test_pred, target_test, zero_division=0))"
   ]
  },
  {
   "cell_type": "code",
   "execution_count": 25,
   "metadata": {},
   "outputs": [
    {
     "name": "stderr",
     "output_type": "stream",
     "text": [
      "/opt/anaconda3/lib/python3.9/site-packages/sklearn/utils/validation.py:593: FutureWarning: np.matrix usage is deprecated in 1.0 and will raise a TypeError in 1.2. Please convert to a numpy array with np.asarray. For more information see: https://numpy.org/doc/stable/reference/generated/numpy.matrix.html\n",
      "  warnings.warn(\n",
      "/opt/anaconda3/lib/python3.9/site-packages/sklearn/utils/validation.py:593: FutureWarning: np.matrix usage is deprecated in 1.0 and will raise a TypeError in 1.2. Please convert to a numpy array with np.asarray. For more information see: https://numpy.org/doc/stable/reference/generated/numpy.matrix.html\n",
      "  warnings.warn(\n",
      "/opt/anaconda3/lib/python3.9/site-packages/sklearn/utils/validation.py:593: FutureWarning: np.matrix usage is deprecated in 1.0 and will raise a TypeError in 1.2. Please convert to a numpy array with np.asarray. For more information see: https://numpy.org/doc/stable/reference/generated/numpy.matrix.html\n",
      "  warnings.warn(\n",
      "/opt/anaconda3/lib/python3.9/site-packages/sklearn/utils/validation.py:593: FutureWarning: np.matrix usage is deprecated in 1.0 and will raise a TypeError in 1.2. Please convert to a numpy array with np.asarray. For more information see: https://numpy.org/doc/stable/reference/generated/numpy.matrix.html\n",
      "  warnings.warn(\n",
      "/opt/anaconda3/lib/python3.9/site-packages/sklearn/utils/validation.py:593: FutureWarning: np.matrix usage is deprecated in 1.0 and will raise a TypeError in 1.2. Please convert to a numpy array with np.asarray. For more information see: https://numpy.org/doc/stable/reference/generated/numpy.matrix.html\n",
      "  warnings.warn(\n"
     ]
    },
    {
     "name": "stdout",
     "output_type": "stream",
     "text": [
      "Accuracy: 0.890625\n",
      "AUC Score: 0.7007283166839561\n",
      "Precision: 0.793212890625\n",
      "Recall: 0.890625\n",
      "F1: 0.8391012396694215\n"
     ]
    },
    {
     "name": "stderr",
     "output_type": "stream",
     "text": [
      "/opt/anaconda3/lib/python3.9/site-packages/sklearn/metrics/_classification.py:1318: UndefinedMetricWarning: Precision is ill-defined and being set to 0.0 in labels with no predicted samples. Use `zero_division` parameter to control this behavior.\n",
      "  _warn_prf(average, modifier, msg_start, len(result))\n"
     ]
    }
   ],
   "source": [
    "# instantiate model\n",
    "model = svm.SVC(kernel='rbf', probability=True) \n",
    "\n",
    "# fit model\n",
    "model.fit(features_train, target_train)\n",
    "\n",
    "test_pred = model.predict(features_test)\n",
    "test_proba = model.predict_proba(features_test)\n",
    "train_pred = model.predict(features_train)\n",
    "train_proba = model.predict_proba(features_train)\n",
    "\n",
    "print(\"Accuracy:\", metrics.accuracy_score(target_test, test_pred))\n",
    "print(\"AUC Score:\", metrics.roc_auc_score(target_test, test_proba, multi_class='ovr'))\n",
    "print(\"Precision:\", metrics.precision_score(target_test, test_pred, average='weighted'))\n",
    "print(\"Recall:\",metrics.recall_score(target_test, test_pred, average='weighted'))\n",
    "print(\"F1:\", metrics.f1_score(target_test, test_pred, average='weighted'))\n",
    "\n",
    "\n",
    "# print('SVM - Train\\n', classification_report(target_train, train_pred, zero_division=0))\n",
    "# print('SVM - Test\\n', classification_report(test_pred, target_test, zero_division=0))"
   ]
  },
  {
   "cell_type": "code",
   "execution_count": 24,
   "metadata": {},
   "outputs": [
    {
     "name": "stderr",
     "output_type": "stream",
     "text": [
      "/opt/anaconda3/lib/python3.9/site-packages/sklearn/utils/validation.py:593: FutureWarning: np.matrix usage is deprecated in 1.0 and will raise a TypeError in 1.2. Please convert to a numpy array with np.asarray. For more information see: https://numpy.org/doc/stable/reference/generated/numpy.matrix.html\n",
      "  warnings.warn(\n",
      "/opt/anaconda3/lib/python3.9/site-packages/sklearn/utils/validation.py:593: FutureWarning: np.matrix usage is deprecated in 1.0 and will raise a TypeError in 1.2. Please convert to a numpy array with np.asarray. For more information see: https://numpy.org/doc/stable/reference/generated/numpy.matrix.html\n",
      "  warnings.warn(\n",
      "/opt/anaconda3/lib/python3.9/site-packages/sklearn/utils/validation.py:593: FutureWarning: np.matrix usage is deprecated in 1.0 and will raise a TypeError in 1.2. Please convert to a numpy array with np.asarray. For more information see: https://numpy.org/doc/stable/reference/generated/numpy.matrix.html\n",
      "  warnings.warn(\n",
      "/opt/anaconda3/lib/python3.9/site-packages/sklearn/utils/validation.py:593: FutureWarning: np.matrix usage is deprecated in 1.0 and will raise a TypeError in 1.2. Please convert to a numpy array with np.asarray. For more information see: https://numpy.org/doc/stable/reference/generated/numpy.matrix.html\n",
      "  warnings.warn(\n",
      "/opt/anaconda3/lib/python3.9/site-packages/sklearn/utils/validation.py:593: FutureWarning: np.matrix usage is deprecated in 1.0 and will raise a TypeError in 1.2. Please convert to a numpy array with np.asarray. For more information see: https://numpy.org/doc/stable/reference/generated/numpy.matrix.html\n",
      "  warnings.warn(\n"
     ]
    },
    {
     "name": "stdout",
     "output_type": "stream",
     "text": [
      "Accuracy: 0.8893229166666666\n",
      "AUC Score: 0.587281012251171\n",
      "Precision: 0.8381382426823941\n",
      "Recall: 0.8893229166666666\n",
      "F1: 0.8432201109008188\n"
     ]
    },
    {
     "name": "stderr",
     "output_type": "stream",
     "text": [
      "/opt/anaconda3/lib/python3.9/site-packages/sklearn/metrics/_classification.py:1318: UndefinedMetricWarning: Precision is ill-defined and being set to 0.0 in labels with no predicted samples. Use `zero_division` parameter to control this behavior.\n",
      "  _warn_prf(average, modifier, msg_start, len(result))\n"
     ]
    }
   ],
   "source": [
    "# instantiate model\n",
    "model = KNeighborsClassifier(n_neighbors=11)\n",
    "\n",
    "# fit model\n",
    "model.fit(features_train, target_train)\n",
    "\n",
    "test_pred = model.predict(features_test)\n",
    "test_proba = model.predict_proba(features_test)\n",
    "train_pred = model.predict(features_train)\n",
    "train_proba = model.predict_proba(features_train)\n",
    "\n",
    "print(\"Accuracy:\", metrics.accuracy_score(target_test, test_pred))\n",
    "print(\"AUC Score:\", metrics.roc_auc_score(target_test, test_proba, multi_class='ovr'))\n",
    "print(\"Precision:\", metrics.precision_score(target_test, test_pred, average='weighted'))\n",
    "print(\"Recall:\",metrics.recall_score(target_test, test_pred, average='weighted'))\n",
    "print(\"F1:\", metrics.f1_score(target_test, test_pred, average='weighted'))\n",
    "# false_positive_rate, true_positive_rate, thresholds = roc_curve(y_test, y_score[:,1])\n",
    "\n",
    "\n",
    "# print('KNN - Train\\n', classification_report(target_train, train_pred, zero_division=0))\n",
    "# print('KNN - Test\\n', classification_report(test_pred, target_test, zero_division=0))"
   ]
  },
  {
   "cell_type": "code",
   "execution_count": null,
   "metadata": {},
   "outputs": [],
   "source": []
  }
 ],
 "metadata": {
  "kernelspec": {
   "display_name": "base",
   "language": "python",
   "name": "python3"
  },
  "language_info": {
   "codemirror_mode": {
    "name": "ipython",
    "version": 3
   },
   "file_extension": ".py",
   "mimetype": "text/x-python",
   "name": "python",
   "nbconvert_exporter": "python",
   "pygments_lexer": "ipython3",
   "version": "3.9.12"
  }
 },
 "nbformat": 4,
 "nbformat_minor": 2
}
