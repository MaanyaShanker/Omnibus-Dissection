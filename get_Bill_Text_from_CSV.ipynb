{
 "cells": [
  {
   "cell_type": "code",
   "execution_count": 2,
   "metadata": {},
   "outputs": [],
   "source": [
    "import csv\n",
    "import json\n",
    "import base64\n",
    "import io\n",
    "import re\n",
    "import logging\n",
    "import sys\n",
    "from pypdf import *\n",
    "from bs4 import BeautifulSoup\n",
    "from pdfreader import PDFDocument, SimplePDFViewer\n",
    "\n",
    "\n",
    "from urllib.request import urlopen\n",
    "\n",
    "key = \"55228d9d4f216ad5972abd1be3c4c2e3\""
   ]
  },
  {
   "cell_type": "code",
   "execution_count": 3,
   "metadata": {},
   "outputs": [],
   "source": [
    "def get_bill_ids(filePath):\n",
    "    \"\"\"Get bill ids from a csv file\"\"\"\n",
    "\n",
    "    bill_ids = []\n",
    "    with(open(filePath, 'r')) as f:\n",
    "        reader = csv.reader(f)\n",
    "        for row in reader:\n",
    "            bill_ids.append(row[0])\n",
    "    return bill_ids        "
   ]
  },
  {
   "cell_type": "code",
   "execution_count": 4,
   "metadata": {},
   "outputs": [],
   "source": [
    "VA_bill_ids = get_bill_ids(\"VA/2024-2024_Regular_Session/csv/bills.csv\")\n",
    "PA_bill_ids = get_bill_ids(\"PA/2023-2024_Regular_Session/csv/bills.csv\")\n",
    "MN_bill_ids = get_bill_ids(\"MN/2023-2024_93rd_Legislature/csv/bills.csv\")\n",
    "CA_bill_ids = get_bill_ids(\"CA/2023-2024_Regular_Session/csv/bills.csv\")"
   ]
  },
  {
   "cell_type": "code",
   "execution_count": 5,
   "metadata": {},
   "outputs": [
    {
     "data": {
      "text/plain": [
       "['bill_id',\n",
       " '1785700',\n",
       " '1785447',\n",
       " '1785578',\n",
       " '1785663',\n",
       " '1785638',\n",
       " '1785434',\n",
       " '1785734',\n",
       " '1785841',\n",
       " '1785996']"
      ]
     },
     "execution_count": 5,
     "metadata": {},
     "output_type": "execute_result"
    }
   ],
   "source": [
    "VA_bill_ids[:10]"
   ]
  },
  {
   "cell_type": "code",
   "execution_count": 6,
   "metadata": {},
   "outputs": [],
   "source": [
    "def get_text_from_bill_id(bill_id):\n",
    "    \"\"\"API pull to get text from bill id\n",
    "    returns None if bill id is not found\n",
    "    returns empy string if no text is unavailable\n",
    "    returns encoded text (with base64) if available\n",
    "    \"\"\"\n",
    "    \n",
    "    urlGetBill = f\"https://api.legiscan.com/?key={key}&op=getBill&id={bill_id}\"\n",
    "    r1 = urlopen(urlGetBill).read().decode()\n",
    "    data1 = json.loads(r1)\n",
    "    if data1[\"status\"] == \"ERROR\":\n",
    "        return None\n",
    "    if data1[\"bill\"][\"texts\"] == []:\n",
    "        return \"\"\n",
    "    else:\n",
    "        doc_id = data1[\"bill\"][\"texts\"][0][\"doc_id\"]\n",
    "        urlGetText = f\"https://api.legiscan.com/?key={key}&op=getBillText&id={doc_id}\"\n",
    "        r2 = urlopen(urlGetText).read().decode()\n",
    "        data2 = json.loads(r2)\n",
    "        textEncoded = data2[\"text\"][\"doc\"]\n",
    "        return textEncoded\n",
    "    \n",
    "def clean_text(text):\n",
    "    text = re.sub(r'\\n', ' ', text)\n",
    "    text = re.sub(r'\\s+', ' ', text)\n",
    "    pattern = r'\\b(\\d+\\s+)+\\d+\\b'\n",
    "    text = re.sub(pattern, '', text) \n",
    "    # Regular expression to match sequences like '- 2 -'\n",
    "    dash_number_pattern = r'-\\s*\\d+\\s*-'\n",
    "    text = re.sub(dash_number_pattern, '', text)\n",
    "    return text    "
   ]
  },
  {
   "cell_type": "code",
   "execution_count": 7,
   "metadata": {},
   "outputs": [
    {
     "data": {
      "text/plain": [
       "'1724272'"
      ]
     },
     "execution_count": 7,
     "metadata": {},
     "output_type": "execute_result"
    }
   ],
   "source": [
    "PA_bill_ids[1]"
   ]
  },
  {
   "cell_type": "code",
   "execution_count": 8,
   "metadata": {},
   "outputs": [],
   "source": [
    "# HTML text to plain text https://stackoverflow.com/questions/328356/extracting-text-from-html-file-using-python\n",
    "data = get_text_from_bill_id(VA_bill_ids[2])\n",
    "decoded = io.BytesIO(base64.b64decode(data))\n",
    "soup = BeautifulSoup(decoded, 'html.parser')\n",
    "for script in soup([\"script\", \"style\"]):\n",
    "    script.extract()\n",
    "\n",
    "text = soup.get_text()\n",
    "lines = (line.strip() for line in text.splitlines())\n",
    "chunks = (phrase.strip() for line in lines for phrase in line.split(\"  \"))\n",
    "text = '\\n'.join(chunk for chunk in chunks if chunk)\n",
    "type(text)\n",
    "# with open(\"HTML2TextTest.txt\", \"w\") as f:\n",
    "#     f.write(text)\n",
    " \n",
    "def decodeHTMLTextToPlainText(data):\n",
    "    decoded = io.BytesIO(base64.b64decode(data))\n",
    "    soup = BeautifulSoup(decoded, 'html.parser')\n",
    "    for script in soup([\"script\", \"style\"]):\n",
    "        script.extract()\n",
    "\n",
    "    text = soup.get_text()\n",
    "    lines = (line.strip() for line in text.splitlines())\n",
    "    chunks = (phrase.strip() for line in lines for phrase in line.split(\"  \"))\n",
    "    text = '\\n'.join(chunk for chunk in chunks if chunk)\n",
    "    text = clean_text(text)\n",
    "    return text  \n",
    "\n",
    "text = decodeHTMLTextToPlainText(data)\n",
    "with open(\"HTML2TextTest.txt\", \"w\") as f:\n",
    "    f.write(text) "
   ]
  },
  {
   "cell_type": "code",
   "execution_count": 9,
   "metadata": {},
   "outputs": [],
   "source": [
    "#From the other guy\n",
    "def html_decoder(base64_decoded):\n",
    "    \"\"\" Decode a base64 representation of a html type bill into string\"\"\"\n",
    "    bs = BeautifulSoup(base64_decoded)\n",
    "\n",
    "    for p in bs.find_all('p'):\n",
    "        if p.string:\n",
    "            p.string.replace_with(p.string.strip())\n",
    "        \n",
    "    # strip white space\n",
    "    bill_text = re.sub(r'\\n\\s*\\n', r'\\n', bs.get_text().strip())\n",
    "\n",
    "    return bill_text\n",
    "\n",
    "testData = base64.b64decode(data)\n",
    "bill_text = html_decoder(testData)\n",
    "bill_text = clean_text(bill_text)\n",
    "with open(\"HTML2TextTestNew.txt\", \"w\") as f:\n",
    "    f.write(bill_text)"
   ]
  },
  {
   "cell_type": "code",
   "execution_count": 10,
   "metadata": {},
   "outputs": [
    {
     "name": "stdout",
     "output_type": "stream",
     "text": [
      "2\n"
     ]
    }
   ],
   "source": [
    "data = get_text_from_bill_id(MN_bill_ids[1])\n",
    "decoded = base64.b64decode(data)\n",
    "pdfBuffer = io.BytesIO(decoded)\n",
    "reader = PdfReader(pdfBuffer)\n",
    "print(len(reader.pages))\n",
    "# with open(\"PAPDF2Text.txt\", \"w\") as f:\n",
    "#     for i in range(len(reader.pages)):\n",
    "#         page = reader.pages[i]\n",
    "#         f.write(page.extract_text())\n",
    "\n",
    "def decodePDFTextToPlainText(data):\n",
    "    decoded = base64.b64decode(data)\n",
    "    pdfBuffer = io.BytesIO(decoded)\n",
    "    reader = PdfReader(pdfBuffer)\n",
    "    text = \"\"\n",
    "    for i in range(len(reader.pages)):\n",
    "        page = reader.pages[i]\n",
    "        text += page.extract_text()\n",
    "\n",
    "    text = clean_text(text)\n",
    "    return text\n",
    "\n",
    "\n",
    "\n",
    "\n",
    "text = decodePDFTextToPlainText(data)\n",
    "with open(\"MNPDF2Text.txt\", \"w\") as f:\n",
    "    f.write(text)"
   ]
  },
  {
   "cell_type": "code",
   "execution_count": null,
   "metadata": {},
   "outputs": [
    {
     "name": "stdout",
     "output_type": "stream",
     "text": [
      "1\n",
      "2\n"
     ]
    }
   ],
   "source": [
    "#From the other guy\n",
    "def _extract_strings_per_page(p, viewer):\n",
    "    \"\"\"navigate into specific page p and render its content into a single string\"\"\"\n",
    "    viewer.navigate(p)\n",
    "    viewer.render()\n",
    "    strings = viewer.canvas.strings\n",
    "    page_content = \" \".join(strings)\n",
    "\n",
    "    return page_content\n",
    "\n",
    "def pdf_decoder(base64_decoded):\n",
    "    \"\"\"Decodes a base64 representation of pdf file into string\"\"\"\n",
    "    try:\n",
    "        pdf_doc = PDFDocument(base64_decoded)\n",
    "    except: \n",
    "        logging.error('encountered error {}'.format(sys.exc_info()[0]))\n",
    "        logging.warning('Returning empty string for bill content')\n",
    "\n",
    "        return ''\n",
    "\n",
    "    all_pages = len([p for p in pdf_doc.pages()])\n",
    "\n",
    "    viewer = SimplePDFViewer(base64_decoded)\n",
    "    content = []\n",
    "\n",
    "    for page in range(1, (all_pages + 1)):\n",
    "        print(page)\n",
    "        content.append(_extract_strings_per_page(page, viewer))\n",
    "\n",
    "    bill_text = \" \".join(content)\n",
    "\n",
    "    # Remove sequences of numbers\n",
    "    bill_text = remove_number_sequences(bill_text)\n",
    "\n",
    "    return bill_text\n",
    "\n",
    "def remove_number_sequences(text):\n",
    "    # Regular expression to match sequences of numbers separated by spaces\n",
    "    pattern = r'\\b(\\d+\\s+)+\\d+\\b'\n",
    "    # Replace the matched sequences with an empty string\n",
    "    cleaned_text = re.sub(pattern, '', text)\n",
    "    # Return the cleaned text\n",
    "    return cleaned_text\n",
    "\n",
    "data = get_text_from_bill_id(PA_bill_ids[1])\n",
    "decoded = base64.b64decode(data)\n",
    "bill_text= pdf_decoder(decoded)\n",
    "\n",
    "with open(\"PAPDF2TextTestMethod.txt\", \"w\") as f:\n",
    "    f.write(bill_text)"
   ]
  },
  {
   "cell_type": "code",
   "execution_count": 8,
   "metadata": {},
   "outputs": [
    {
     "name": "stdout",
     "output_type": "stream",
     "text": [
      "100\n",
      "200\n"
     ]
    }
   ],
   "source": [
    "#Create a CSV file with the bill_id and the encoded text\n",
    "bill_texts = []\n",
    "bill_texts.append([\"state\",\"bill_id\", \"text\"])\n",
    "count = 0\n",
    "for bill_id in VA_bill_ids: #skip the first line since its the header\n",
    "    if bill_id == \"bill_id\":\n",
    "        continue\n",
    "    billText = get_text_from_bill_id(bill_id)\n",
    "    count += 1\n",
    "    if count % 100 == 0:\n",
    "        print(count)\n",
    "    bill_texts.append([\"VA\", bill_id, billText]) #If empty string then text was unavailable on LegiScan\n",
    "\n",
    "# for bill_id in PA_bill_ids: #skip the first line since its the header\n",
    "#     if bill_id == \"bill_id\":\n",
    "#         continue\n",
    "#     billText = get_text_from_bill_id(bill_id)\n",
    "#     bill_texts.append([\"PA\", bill_id, billText]) #If empty string then text was unavailable on LegiScan\n",
    "    \n",
    "with open(\"bill_texts.csv\", \"w\") as f:\n",
    "    writer = csv.writer(f)\n",
    "    writer.writerows(bill_texts)\n",
    "        \n"
   ]
  },
  {
   "cell_type": "code",
   "execution_count": 18,
   "metadata": {},
   "outputs": [
    {
     "name": "stderr",
     "output_type": "stream",
     "text": [
      "[nltk_data] Downloading package punkt_tab to\n",
      "[nltk_data]     C:\\Users\\chess\\AppData\\Roaming\\nltk_data...\n",
      "[nltk_data]   Package punkt_tab is already up-to-date!\n"
     ]
    }
   ],
   "source": [
    "#Final methods to move to CRC\n",
    "import csv\n",
    "import string\n",
    "import json\n",
    "import base64\n",
    "import io\n",
    "import re\n",
    "import logging\n",
    "import sys\n",
    "from pypdf import *\n",
    "from bs4 import BeautifulSoup\n",
    "import nltk\n",
    "from nltk.corpus import stopwords\n",
    "from nltk.tokenize import word_tokenize\n",
    "\n",
    "nltk.download('punkt_tab')\n",
    "\n",
    "def get_bill_ids(filePath):\n",
    "    \"\"\"Get bill ids from a csv file\"\"\"\n",
    "\n",
    "    bill_ids = []\n",
    "    with(open(filePath, 'r')) as f:\n",
    "        reader = csv.reader(f)\n",
    "        for row in reader:\n",
    "            bill_ids.append(row[0])\n",
    "    return bill_ids \n",
    "\n",
    "def get_text_from_bill_id(bill_id):\n",
    "    \"\"\"API pull to get text from bill id\n",
    "    returns None if bill id is not found\n",
    "    returns empy string if no text is unavailable\n",
    "    returns encoded text (with base64) if available\n",
    "    \"\"\"\n",
    "    \n",
    "    urlGetBill = f\"https://api.legiscan.com/?key={key}&op=getBill&id={bill_id}\"\n",
    "    r1 = urlopen(urlGetBill).read().decode()\n",
    "    data1 = json.loads(r1)\n",
    "    if data1[\"status\"] == \"ERROR\":\n",
    "        return None\n",
    "    if data1[\"bill\"][\"texts\"] == []:\n",
    "        return \"\"\n",
    "    else:\n",
    "        doc_id = data1[\"bill\"][\"texts\"][0][\"doc_id\"]\n",
    "        urlGetText = f\"https://api.legiscan.com/?key={key}&op=getBillText&id={doc_id}\"\n",
    "        r2 = urlopen(urlGetText).read().decode()\n",
    "        data2 = json.loads(r2)\n",
    "        textEncoded = data2[\"text\"][\"doc\"]\n",
    "        return textEncoded\n",
    "    \n",
    "def clean_text(text):\n",
    "    \"\"\"\n",
    "    Clean the text by removing extra white spaces and sequences of numbers\n",
    "    \"\"\"\n",
    "    text = re.sub(r'\\n', ' ', text)\n",
    "    text = re.sub(r'\\s+', ' ', text)\n",
    "    pattern = r'\\b(\\d+\\s+)+\\d+\\b'\n",
    "    text = re.sub(pattern, '', text) \n",
    "    # Regular expression to match sequences like '- 2 -'\n",
    "    dash_number_pattern = r'-\\s*\\d+\\s*-'\n",
    "    text = re.sub(dash_number_pattern, '', text)\n",
    "    return text  \n",
    "\n",
    "def html_decode(data):\n",
    "    # HTML text to plain text https://stackoverflow.com/questions/328356/extracting-text-from-html-file-using-python\n",
    "    \"\"\"\n",
    "    Decode a base64 representation of a html type bill into string\n",
    "    \"\"\"\n",
    "    decoded = io.BytesIO(base64.b64decode(data))\n",
    "    soup = BeautifulSoup(decoded, 'html.parser')\n",
    "    for script in soup([\"script\", \"style\"]):\n",
    "        script.extract()\n",
    "\n",
    "    text = soup.get_text()\n",
    "    lines = (line.strip() for line in text.splitlines())\n",
    "    chunks = (phrase.strip() for line in lines for phrase in line.split(\"  \"))\n",
    "    text = '\\n'.join(chunk for chunk in chunks if chunk)\n",
    "    text = clean_text(text)\n",
    "    return text \n",
    "\n",
    "def pdf_decode(data):\n",
    "    \"\"\"\n",
    "    Decode a base64 representation of a pdf type bill into string\n",
    "    \"\"\"\n",
    "    decoded = base64.b64decode(data)\n",
    "    pdfBuffer = io.BytesIO(decoded)\n",
    "    reader = PdfReader(pdfBuffer)\n",
    "    text = \"\"\n",
    "    for i in range(len(reader.pages)):\n",
    "        page = reader.pages[i]\n",
    "        text += page.extract_text()\n",
    "\n",
    "    text = clean_text(text)\n",
    "    return text\n",
    "\n",
    "def preprocess_text(text):\n",
    "    \"\"\"\n",
    "    Preprocess the text by removing punctuation, converting to lowercase, tokenizing, and removing stopwords\n",
    "    \"\"\"\n",
    "    # Remove punctuation\n",
    "    text = re.sub(f\"[{re.escape(string.punctuation)}]\", \"\", text)\n",
    "    # Convert to lowercase\n",
    "    text = text.lower()\n",
    "    # Tokenize the text\n",
    "    words = word_tokenize(text)\n",
    "    # Remove stopwords\n",
    "    stop_words = set(stopwords.words(\"english\"))\n",
    "    filtered_words = [word for word in words if word not in stop_words]\n",
    "    # Join words back into a single string\n",
    "    cleaned_text = \" \".join(filtered_words)\n",
    "    return cleaned_text"
   ]
  },
  {
   "cell_type": "markdown",
   "metadata": {},
   "source": [
    "Sample Texts to see how it is formated:\n",
    "\n",
    "HTML2TextTest.txt \n",
    "PAPDf2TExt.txt"
   ]
  },
  {
   "cell_type": "code",
   "execution_count": 19,
   "metadata": {},
   "outputs": [],
   "source": [
    "VA_bill_ids = get_bill_ids(\"VA/2024-2024_Regular_Session/csv/bills.csv\")\n",
    "PA_bill_ids = get_bill_ids(\"PA/2023-2024_Regular_Session/csv/bills.csv\")\n",
    "MN_bill_ids = get_bill_ids(\"MN/2023-2024_93rd_Legislature/csv/bills.csv\")\n",
    "CA_bill_ids = get_bill_ids(\"CA/2023-2024_Regular_Session/csv/bills.csv\")\n",
    "\n",
    "data = get_text_from_bill_id(PA_bill_ids[2])\n",
    "text = pdf_decode(data)\n",
    "preprocess_text = preprocess_text(text)\n",
    "with open(\"PAPDF2TextPreprocess.txt\", \"w\") as f:\n",
    "    f.write(preprocess_text)"
   ]
  }
 ],
 "metadata": {
  "kernelspec": {
   "display_name": "base",
   "language": "python",
   "name": "python3"
  },
  "language_info": {
   "codemirror_mode": {
    "name": "ipython",
    "version": 3
   },
   "file_extension": ".py",
   "mimetype": "text/x-python",
   "name": "python",
   "nbconvert_exporter": "python",
   "pygments_lexer": "ipython3",
   "version": "3.9.20"
  }
 },
 "nbformat": 4,
 "nbformat_minor": 2
}
