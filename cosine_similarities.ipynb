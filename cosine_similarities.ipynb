{
 "cells": [
  {
   "cell_type": "code",
   "execution_count": null,
   "metadata": {},
   "outputs": [],
   "source": [
    "import pandas as pd\n",
    "\n",
    "# libraries to clean the data\n",
    "import nltk\n",
    "nltk.download('stopwords')\n",
    "from nltk.corpus import stopwords\n",
    "import re\n",
    "\n",
    "# To vectorize and split the data appropriately\n",
    "from sklearn.feature_extraction.text import TfidfVectorizer\n",
    "\n",
    "#compute cosign similarities tf idf\n",
    "from sklearn.metrics.pairwise import linear_kernel\n",
    "\n",
    "from gensim.models import Word2Vec\n",
    "from sklearn.metrics.pairwise import cosine_similarity\n",
    "import numpy as np\n",
    "from numpy import dot\n",
    "from numpy.linalg import norm"
   ]
  },
  {
   "cell_type": "code",
   "execution_count": null,
   "metadata": {},
   "outputs": [],
   "source": [
    "fulldata = pd.read_csv(\"data/MN/2023-2024_93rd_Legislature/csv/MN_bill_texts_preprocessed.csv\")\n",
    "fulldata.columns = ['bill_id', 'text']"
   ]
  },
  {
   "cell_type": "code",
   "execution_count": null,
   "metadata": {},
   "outputs": [],
   "source": [
    "fulldata.dropna(subset=['bill_id', 'text'], inplace=True)\n",
    "fulldata = fulldata.astype({'bill_id':'int', 'text':'string'})"
   ]
  },
  {
   "cell_type": "code",
   "execution_count": null,
   "metadata": {},
   "outputs": [],
   "source": [
    "stop_words = stopwords.words('english')\n",
    "\n",
    "        \n",
    "def remove_stopwords(texts):\n",
    "    return [word for word in texts.split() if word not in stop_words]\n",
    "\n",
    "def clean_text(text):\n",
    "    text = ' '.join(remove_stopwords(text.lower()))\n",
    "    # remove punctuation\n",
    "    text = str(re.sub('[,.!?]', '', text))\n",
    "    #remove the new line shit\n",
    "    text = text.replace(\"\\u200b\", \"\")\n",
    "    #remove all numbers\n",
    "    text = re.sub(r'\\d+', '', text)\n",
    "    #remove a b c \n",
    "    text = text.replace(\" a \", \"\")\n",
    "    text = text.replace(\" b \", \"\")\n",
    "    text = text.replace(\" c \", \"\")\n",
    "    return text\n",
    "\n",
    "fulldata[\"clean_text\"]= fulldata['text'].apply(lambda x:clean_text(x))"
   ]
  },
  {
   "cell_type": "code",
   "execution_count": null,
   "metadata": {},
   "outputs": [],
   "source": [
    "#tf-idf\n",
    "vectorizer = TfidfVectorizer()\n",
    "bill_text = fulldata['clean_text']\n",
    "bill_text = vectorizer.fit_transform(bill_text)"
   ]
  },
  {
   "cell_type": "code",
   "execution_count": null,
   "metadata": {},
   "outputs": [],
   "source": [
    "#change the indices to match the document index you want to compare to\n",
    "cosine_similarities = linear_kernel(bill_text[5426:5427], bill_text).flatten()\n",
    "cosine_similarities"
   ]
  },
  {
   "cell_type": "code",
   "execution_count": null,
   "metadata": {},
   "outputs": [],
   "source": [
    "related_docs_indices = cosine_similarities.argsort()[:-7:-1]\n",
    "related_docs_indices\n",
    "fulldata.loc[related_docs_indices,\"bill_number\"]"
   ]
  },
  {
   "cell_type": "code",
   "execution_count": null,
   "metadata": {},
   "outputs": [],
   "source": [
    "#compute cosign similarities word-to-vec’\n",
    "\n",
    "tokenized_docs = [doc.lower().split() for doc in fulldata[\"text\"]]\n",
    "model = Word2Vec(tokenized_docs, min_count=1, vector_size=100)"
   ]
  },
  {
   "cell_type": "code",
   "execution_count": null,
   "metadata": {},
   "outputs": [],
   "source": [
    "def get_doc_vector(doc, model):\n",
    "    doc_vector = np.zeros(model.vector_size)\n",
    "    word_count = 0\n",
    "    for word in doc:\n",
    "        if word in model.wv:\n",
    "            doc_vector += model.wv[word]\n",
    "            word_count += 1\n",
    "    if word_count != 0:\n",
    "        return doc_vector / word_count\n",
    "    else:\n",
    "        return np.zeros(model.vector_size)\n",
    "\n",
    "doc_vectors = [get_doc_vector(doc, model) for doc in tokenized_docs]"
   ]
  },
  {
   "cell_type": "code",
   "execution_count": null,
   "metadata": {},
   "outputs": [],
   "source": [
    "omni = doc_vectors[5246]\n",
    "sims = []\n",
    "def compute_cosin(x,omni):\n",
    "    cos_sim = dot(x,omni)/(norm(x)*norm(omni))\n",
    "    return cos_sim\n",
    "for x in doc_vectors:\n",
    "    sim = compute_cosin(x,omni)\n",
    "    sims.append(sim)\n",
    "\n",
    "related_docs_indices = np.array(sims).argsort()[:-21:-1]\n",
    "related_docs_indices\n",
    "\n",
    "fulldata.loc[related_docs_indices,\"bill_number\"]"
   ]
  }
 ],
 "metadata": {
  "kernelspec": {
   "display_name": "Python 3",
   "language": "python",
   "name": "python3"
  },
  "language_info": {
   "name": "python",
   "version": "3.12.6"
  }
 },
 "nbformat": 4,
 "nbformat_minor": 2
}
