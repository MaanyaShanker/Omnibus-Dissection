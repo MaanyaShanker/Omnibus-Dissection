{
 "cells": [
  {
   "cell_type": "code",
   "execution_count": 2,
   "metadata": {},
   "outputs": [],
   "source": [
    "import csv\n",
    "import json\n",
    "import base64\n",
    "\n",
    "from urllib.request import urlopen\n",
    "\n",
    "key = \"55228d9d4f216ad5972abd1be3c4c2e3\""
   ]
  },
  {
   "cell_type": "code",
   "execution_count": 3,
   "metadata": {},
   "outputs": [],
   "source": [
    "#get the first col of the csv file\n",
    "def get_bill_ids(filePath):\n",
    "    bill_ids = []\n",
    "    with(open(filePath, 'r')) as f:\n",
    "        reader = csv.reader(f)\n",
    "        for row in reader:\n",
    "            bill_ids.append(row[0])\n",
    "    return bill_ids        "
   ]
  },
  {
   "cell_type": "code",
   "execution_count": 4,
   "metadata": {},
   "outputs": [],
   "source": [
    "bill_ids = get_bill_ids(\"VA/2024-2024_1st_Special_Session/csv/bills.csv\")"
   ]
  },
  {
   "cell_type": "code",
   "execution_count": 5,
   "metadata": {},
   "outputs": [
    {
     "data": {
      "text/plain": [
       "['bill_id',\n",
       " '1877734',\n",
       " '1877735',\n",
       " '1882815',\n",
       " '1883989',\n",
       " '1877732',\n",
       " '1877737',\n",
       " '1877730',\n",
       " '1877736',\n",
       " '1877727']"
      ]
     },
     "execution_count": 5,
     "metadata": {},
     "output_type": "execute_result"
    }
   ],
   "source": [
    "bill_ids[:10]"
   ]
  },
  {
   "cell_type": "code",
   "execution_count": 44,
   "metadata": {},
   "outputs": [],
   "source": [
    "def get_text_from_bill_id(bill_id):\n",
    "    urlGetBill = f\"https://api.legiscan.com/?key={key}&op=getBill&id={bill_id}\"\n",
    "    r1 = urlopen(urlGetBill).read().decode()\n",
    "    data1 = json.loads(r1)\n",
    "    if data1[\"status\"] == \"ERROR\":\n",
    "        return None\n",
    "    if data1[\"bill\"][\"texts\"] == []:\n",
    "        return \"\"\n",
    "    else:\n",
    "        doc_id = data1[\"bill\"][\"texts\"][0][\"doc_id\"]\n",
    "        urlGetText = f\"https://api.legiscan.com/?key={key}&op=getBillText&id={doc_id}\"\n",
    "        r2 = urlopen(urlGetText).read().decode()\n",
    "        data2 = json.loads(r2)\n",
    "        textEncoded = data2[\"text\"][\"doc\"]\n",
    "        return textEncoded"
   ]
  },
  {
   "cell_type": "code",
   "execution_count": 45,
   "metadata": {},
   "outputs": [
    {
     "data": {
      "text/plain": [
       "'1877734'"
      ]
     },
     "execution_count": 45,
     "metadata": {},
     "output_type": "execute_result"
    }
   ],
   "source": [
    "bill_ids[1]"
   ]
  },
  {
   "cell_type": "code",
   "execution_count": 53,
   "metadata": {},
   "outputs": [],
   "source": [
    "data = get_text_from_bill_id(bill_ids[5])\n",
    "base64.b64decode(data).decode('utf-8')\n",
    "\n",
    "with open(\"sampleText.txt\", \"w\") as f:\n",
    "    f.write(base64.b64decode(data).decode('utf-8'))\n"
   ]
  },
  {
   "cell_type": "code",
   "execution_count": 51,
   "metadata": {},
   "outputs": [],
   "source": [
    "#Create a CSV file with the bill_id and the encoded text\n",
    "bill_texts = []\n",
    "bill_texts.append([\"bill_id\", \"text\"])\n",
    "for bill_id in bill_ids: #skip the first line since its the header\n",
    "    if bill_id == \"bill_id\":\n",
    "        continue\n",
    "    billText = get_text_from_bill_id(bill_id)\n",
    "    bill_texts.append([bill_id, billText]) #If empty string then text was unavailable on LegiScan\n",
    "\n",
    "with open(\"bill_texts.csv\", \"w\") as f:\n",
    "    writer = csv.writer(f)\n",
    "    writer.writerows(bill_texts)\n",
    "        \n"
   ]
  }
 ],
 "metadata": {
  "kernelspec": {
   "display_name": "Python 3",
   "language": "python",
   "name": "python3"
  },
  "language_info": {
   "codemirror_mode": {
    "name": "ipython",
    "version": 3
   },
   "file_extension": ".py",
   "mimetype": "text/x-python",
   "name": "python",
   "nbconvert_exporter": "python",
   "pygments_lexer": "ipython3",
   "version": "3.12.0"
  }
 },
 "nbformat": 4,
 "nbformat_minor": 2
}
