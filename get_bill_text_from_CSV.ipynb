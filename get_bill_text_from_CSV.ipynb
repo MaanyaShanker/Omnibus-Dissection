{
 "cells": [
  {
   "cell_type": "code",
   "execution_count": 1,
   "metadata": {},
   "outputs": [],
   "source": [
    "import csv\n",
    "import json\n",
    "import base64\n",
    "from spire.pdf import *\n",
    "\n",
    "from urllib.request import urlopen\n",
    "\n",
    "key = \"55228d9d4f216ad5972abd1be3c4c2e3\""
   ]
  },
  {
   "cell_type": "code",
   "execution_count": 2,
   "metadata": {},
   "outputs": [],
   "source": [
    "def get_bill_ids(filePath):\n",
    "    \"\"\"Get bill ids from a csv file\"\"\"\n",
    "\n",
    "    bill_ids = []\n",
    "    with(open(filePath, 'r')) as f:\n",
    "        reader = csv.reader(f)\n",
    "        for row in reader:\n",
    "            bill_ids.append(row[0])\n",
    "    return bill_ids        "
   ]
  },
  {
   "cell_type": "code",
   "execution_count": 4,
   "metadata": {},
   "outputs": [],
   "source": [
    "VA_bill_ids = get_bill_ids(\"VA/2024-2024_Regular_Session/csv/bills.csv\")\n",
    "PA_bill_ids = get_bill_ids(\"PA/2023-2024_Regular_Session/csv/bills.csv\")\n",
    "MN_bill_ids = get_bill_ids(\"MN/2023-2024_93rd_Legislature/csv/bills.csv\")"
   ]
  },
  {
   "cell_type": "code",
   "execution_count": 5,
   "metadata": {},
   "outputs": [
    {
     "data": {
      "text/plain": [
       "['bill_id',\n",
       " '1877734',\n",
       " '1877735',\n",
       " '1882815',\n",
       " '1883989',\n",
       " '1877732',\n",
       " '1877737',\n",
       " '1877730',\n",
       " '1877736',\n",
       " '1877727']"
      ]
     },
     "execution_count": 5,
     "metadata": {},
     "output_type": "execute_result"
    }
   ],
   "source": [
    "VA_bill_ids[:10]"
   ]
  },
  {
   "cell_type": "code",
   "execution_count": 5,
   "metadata": {},
   "outputs": [],
   "source": [
    "def get_text_from_bill_id(bill_id):\n",
    "    \"\"\"API pull to get text from bill id\n",
    "    returns None if bill id is not found\n",
    "    returns empy string if no text is unavailable\n",
    "    returns encoded text (with base64) if available\n",
    "    \"\"\"\n",
    "    \n",
    "    urlGetBill = f\"https://api.legiscan.com/?key={key}&op=getBill&id={bill_id}\"\n",
    "    r1 = urlopen(urlGetBill).read().decode()\n",
    "    data1 = json.loads(r1)\n",
    "    if data1[\"status\"] == \"ERROR\":\n",
    "        return None\n",
    "    if data1[\"bill\"][\"texts\"] == []:\n",
    "        return \"\"\n",
    "    else:\n",
    "        doc_id = data1[\"bill\"][\"texts\"][0][\"doc_id\"]\n",
    "        urlGetText = f\"https://api.legiscan.com/?key={key}&op=getBillText&id={doc_id}\"\n",
    "        r2 = urlopen(urlGetText).read().decode()\n",
    "        data2 = json.loads(r2)\n",
    "        textEncoded = data2[\"text\"][\"doc\"]\n",
    "        return textEncoded"
   ]
  },
  {
   "cell_type": "code",
   "execution_count": 7,
   "metadata": {},
   "outputs": [
    {
     "data": {
      "text/plain": [
       "'1745716'"
      ]
     },
     "execution_count": 7,
     "metadata": {},
     "output_type": "execute_result"
    }
   ],
   "source": [
    "PA_bill_ids[4]"
   ]
  },
  {
   "cell_type": "code",
   "execution_count": 13,
   "metadata": {},
   "outputs": [
    {
     "ename": "SpireException",
     "evalue": "Arg_InvalidCastException:   at System.Runtime.TypeCast.CheckCastClass(MethodTable*, Object) + 0x31\r\n   at Spire.AOT.Helper`1.PtrToObject(IntPtr) + 0xd6\r\n   at Spire.Pdf.AOT.NLPdfTextExtractor.PdfTextExtractor_CreatePdfTextExtractorP(IntPtr, IntPtr) + 0x53",
     "output_type": "error",
     "traceback": [
      "\u001b[1;31m---------------------------------------------------------------------------\u001b[0m",
      "\u001b[1;31mSpireException\u001b[0m                            Traceback (most recent call last)",
      "Input \u001b[1;32mIn [13]\u001b[0m, in \u001b[0;36m<cell line: 5>\u001b[1;34m()\u001b[0m\n\u001b[0;32m      3\u001b[0m stream \u001b[38;5;241m=\u001b[39m Stream(base64\u001b[38;5;241m.\u001b[39mb64decode(data))\n\u001b[0;32m      4\u001b[0m pdf \u001b[38;5;241m=\u001b[39m PdfDocument(stream)\n\u001b[1;32m----> 5\u001b[0m textExtractor \u001b[38;5;241m=\u001b[39m \u001b[43mPdfTextExtractor\u001b[49m\u001b[43m(\u001b[49m\u001b[43mpdf\u001b[49m\u001b[43m)\u001b[49m\n",
      "File \u001b[1;32mc:\\Users\\chess\\anaconda3\\lib\\site-packages\\spire\\pdf\\PdfTextExtractor.py:17\u001b[0m, in \u001b[0;36mPdfTextExtractor.__init__\u001b[1;34m(self, page)\u001b[0m\n\u001b[0;32m     15\u001b[0m GetDllLibPdf()\u001b[38;5;241m.\u001b[39mPdfTextExtractor_CreatePdfTextExtractorP\u001b[38;5;241m.\u001b[39margtypes\u001b[38;5;241m=\u001b[39m[c_void_p]\n\u001b[0;32m     16\u001b[0m GetDllLibPdf()\u001b[38;5;241m.\u001b[39mPdfTextExtractor_CreatePdfTextExtractorP\u001b[38;5;241m.\u001b[39mrestype \u001b[38;5;241m=\u001b[39m c_void_p\n\u001b[1;32m---> 17\u001b[0m intPtr \u001b[38;5;241m=\u001b[39m \u001b[43mCallCFunction\u001b[49m\u001b[43m(\u001b[49m\u001b[43mGetDllLibPdf\u001b[49m\u001b[43m(\u001b[49m\u001b[43m)\u001b[49m\u001b[38;5;241;43m.\u001b[39;49m\u001b[43mPdfTextExtractor_CreatePdfTextExtractorP\u001b[49m\u001b[43m,\u001b[49m\u001b[43mintPtrpage\u001b[49m\u001b[43m)\u001b[49m\n\u001b[0;32m     18\u001b[0m \u001b[38;5;28msuper\u001b[39m(PdfTextExtractor, \u001b[38;5;28mself\u001b[39m)\u001b[38;5;241m.\u001b[39m\u001b[38;5;21m__init__\u001b[39m(intPtr)\n",
      "File \u001b[1;32mc:\\Users\\chess\\anaconda3\\lib\\site-packages\\spire\\pdf\\common\\__init__.py:109\u001b[0m, in \u001b[0;36mCallCFunction\u001b[1;34m(func, *args, **kwargs)\u001b[0m\n\u001b[0;32m    107\u001b[0m \u001b[38;5;28;01mif\u001b[39;00m old_value \u001b[38;5;241m!=\u001b[39m modified_value:\n\u001b[0;32m    108\u001b[0m     info \u001b[38;5;241m=\u001b[39m PtrToStr(modified_value)\n\u001b[1;32m--> 109\u001b[0m     \u001b[38;5;28;01mraise\u001b[39;00m SpireException(info)\n\u001b[0;32m    110\u001b[0m \u001b[38;5;28;01mreturn\u001b[39;00m result\n",
      "\u001b[1;31mSpireException\u001b[0m: Arg_InvalidCastException:   at System.Runtime.TypeCast.CheckCastClass(MethodTable*, Object) + 0x31\r\n   at Spire.AOT.Helper`1.PtrToObject(IntPtr) + 0xd6\r\n   at Spire.Pdf.AOT.NLPdfTextExtractor.PdfTextExtractor_CreatePdfTextExtractorP(IntPtr, IntPtr) + 0x53"
     ]
    }
   ],
   "source": [
    "data = get_text_from_bill_id(PA_bill_ids[240])\n",
    "base64.b64decode(data)\n",
    "stream = Stream(base64.b64decode(data))\n",
    "pdf = PdfDocument(stream)\n",
    "textExtractor = PdfTextExtractor(pdf)\n",
    "# extractOptions = PdfTextExtractOptions()\n",
    "# extractOptions.IsExtractAllText = True\n",
    "# text = textExtractor.ExtractText(extractOptions)\n",
    "# print(text)\n",
    "# with open(\"sampleText.txt\", \"w\") as f:\n",
    "#     f.write(data)\n",
    "\n",
    "# with open(\"sampleText.txt\", \"w\") as f:\n",
    "\n",
    "#     f.write(base64.b64decode(data).decode())"
   ]
  },
  {
   "cell_type": "code",
   "execution_count": 8,
   "metadata": {},
   "outputs": [
    {
     "name": "stdout",
     "output_type": "stream",
     "text": [
      "100\n",
      "200\n"
     ]
    }
   ],
   "source": [
    "#Create a CSV file with the bill_id and the encoded text\n",
    "bill_texts = []\n",
    "bill_texts.append([\"state\",\"bill_id\", \"text\"])\n",
    "count = 0\n",
    "for bill_id in VA_bill_ids: #skip the first line since its the header\n",
    "    if bill_id == \"bill_id\":\n",
    "        continue\n",
    "    billText = get_text_from_bill_id(bill_id)\n",
    "    count += 1\n",
    "    if count % 100 == 0:\n",
    "        print(count)\n",
    "    bill_texts.append([\"VA\", bill_id, billText]) #If empty string then text was unavailable on LegiScan\n",
    "\n",
    "# for bill_id in PA_bill_ids: #skip the first line since its the header\n",
    "#     if bill_id == \"bill_id\":\n",
    "#         continue\n",
    "#     billText = get_text_from_bill_id(bill_id)\n",
    "#     bill_texts.append([\"PA\", bill_id, billText]) #If empty string then text was unavailable on LegiScan\n",
    "    \n",
    "with open(\"bill_texts.csv\", \"w\") as f:\n",
    "    writer = csv.writer(f)\n",
    "    writer.writerows(bill_texts)\n",
    "        \n"
   ]
  }
 ],
 "metadata": {
  "kernelspec": {
   "display_name": "base",
   "language": "python",
   "name": "python3"
  },
  "language_info": {
   "codemirror_mode": {
    "name": "ipython",
    "version": 3
   },
   "file_extension": ".py",
   "mimetype": "text/x-python",
   "name": "python",
   "nbconvert_exporter": "python",
   "pygments_lexer": "ipython3",
   "version": "3.9.12"
  }
 },
 "nbformat": 4,
 "nbformat_minor": 2
}
